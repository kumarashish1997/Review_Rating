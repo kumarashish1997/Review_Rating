{
 "cells": [
  {
   "cell_type": "code",
   "execution_count": 1,
   "id": "4a5dba92",
   "metadata": {},
   "outputs": [],
   "source": [
    "import pandas as pd\n",
    "import numpy as np\n",
    "import matplotlib.pyplot as plt\n",
    "import seaborn as sns\n",
    "import warnings\n",
    "warnings.filterwarnings('ignore')"
   ]
  },
  {
   "cell_type": "code",
   "execution_count": 2,
   "id": "e76d519c",
   "metadata": {},
   "outputs": [
    {
     "name": "stdout",
     "output_type": "stream",
     "text": [
      "Requirement already satisfied: wordcloud in c:\\users\\pavilion\\anaconda3\\lib\\site-packages (1.8.2.2)\n",
      "Requirement already satisfied: numpy>=1.6.1 in c:\\users\\pavilion\\anaconda3\\lib\\site-packages (from wordcloud) (1.21.5)\n",
      "Requirement already satisfied: pillow in c:\\users\\pavilion\\anaconda3\\lib\\site-packages (from wordcloud) (9.2.0)\n",
      "Requirement already satisfied: matplotlib in c:\\users\\pavilion\\anaconda3\\lib\\site-packages (from wordcloud) (3.5.2)\n",
      "Requirement already satisfied: cycler>=0.10 in c:\\users\\pavilion\\anaconda3\\lib\\site-packages (from matplotlib->wordcloud) (0.11.0)\n",
      "Requirement already satisfied: fonttools>=4.22.0 in c:\\users\\pavilion\\anaconda3\\lib\\site-packages (from matplotlib->wordcloud) (4.25.0)\n",
      "Requirement already satisfied: python-dateutil>=2.7 in c:\\users\\pavilion\\anaconda3\\lib\\site-packages (from matplotlib->wordcloud) (2.8.2)\n",
      "Requirement already satisfied: pyparsing>=2.2.1 in c:\\users\\pavilion\\anaconda3\\lib\\site-packages (from matplotlib->wordcloud) (3.0.9)\n",
      "Requirement already satisfied: kiwisolver>=1.0.1 in c:\\users\\pavilion\\anaconda3\\lib\\site-packages (from matplotlib->wordcloud) (1.4.2)\n",
      "Requirement already satisfied: packaging>=20.0 in c:\\users\\pavilion\\anaconda3\\lib\\site-packages (from matplotlib->wordcloud) (21.3)\n",
      "Requirement already satisfied: six>=1.5 in c:\\users\\pavilion\\anaconda3\\lib\\site-packages (from python-dateutil>=2.7->matplotlib->wordcloud) (1.16.0)\n"
     ]
    }
   ],
   "source": [
    "!pip install wordcloud"
   ]
  },
  {
   "cell_type": "code",
   "execution_count": 3,
   "id": "5ef4bf23",
   "metadata": {},
   "outputs": [],
   "source": [
    "import os\n",
    "import scipy as stats\n",
    "# Importing nltk libraries\n",
    "import nltk\n",
    "import re\n",
    "import string\n",
    "from nltk import FreqDist\n",
    "from nltk.corpus import wordnet\n",
    "from scipy.sparse import hstack\n",
    "from nltk.corpus import stopwords\n",
    "from nltk.tokenize import word_tokenize\n",
    "from wordcloud import WordCloud\n",
    "from nltk.stem.wordnet import WordNetLemmatizer\n",
    "from sklearn.feature_extraction.text import TfidfVectorizer\n",
    "# Evaluation Metrics\n",
    "from sklearn import metrics\n",
    "from sklearn.metrics import classification_report,confusion_matrix\n",
    "from sklearn.metrics import roc_curve,accuracy_score,roc_auc_score\n",
    "from sklearn.model_selection import train_test_split,GridSearchCV,cross_val_score\n",
    "# Defining different algorithms\n",
    "from sklearn.svm import LinearSVC\n",
    "# from xgboost import XGBClassifier\n",
    "from sklearn.linear_model import SGDClassifier\n",
    "from sklearn.tree import DecisionTreeClassifier\n",
    "from sklearn.ensemble import RandomForestClassifier, ExtraTreesClassifier"
   ]
  },
  {
   "cell_type": "code",
   "execution_count": 4,
   "id": "c552b408",
   "metadata": {},
   "outputs": [
    {
     "data": {
      "text/html": [
       "<div>\n",
       "<style scoped>\n",
       "    .dataframe tbody tr th:only-of-type {\n",
       "        vertical-align: middle;\n",
       "    }\n",
       "\n",
       "    .dataframe tbody tr th {\n",
       "        vertical-align: top;\n",
       "    }\n",
       "\n",
       "    .dataframe thead th {\n",
       "        text-align: right;\n",
       "    }\n",
       "</style>\n",
       "<table border=\"1\" class=\"dataframe\">\n",
       "  <thead>\n",
       "    <tr style=\"text-align: right;\">\n",
       "      <th></th>\n",
       "      <th>Review_title</th>\n",
       "      <th>Review_text</th>\n",
       "      <th>Ratings</th>\n",
       "    </tr>\n",
       "  </thead>\n",
       "  <tbody>\n",
       "    <tr>\n",
       "      <th>0</th>\n",
       "      <td>Not suitable for work</td>\n",
       "      <td>\\n  It took me one month to get my laptop work...</td>\n",
       "      <td>2.0 out of 5 stars</td>\n",
       "    </tr>\n",
       "    <tr>\n",
       "      <th>1</th>\n",
       "      <td>Not worth for what you pay</td>\n",
       "      <td>\\n  You can buy the same for better price dire...</td>\n",
       "      <td>2.0 out of 5 stars</td>\n",
       "    </tr>\n",
       "    <tr>\n",
       "      <th>2</th>\n",
       "      <td>Good Product</td>\n",
       "      <td>\\n  Overall Product... upgraded windows 11 and...</td>\n",
       "      <td>2.0 out of 5 stars</td>\n",
       "    </tr>\n",
       "    <tr>\n",
       "      <th>3</th>\n",
       "      <td>Not advised</td>\n",
       "      <td>\\n  Theres a scratch already in the screen and...</td>\n",
       "      <td>2.0 out of 5 stars</td>\n",
       "    </tr>\n",
       "    <tr>\n",
       "      <th>4</th>\n",
       "      <td>The laptop hangs, sometimes gets stuck and it ...</td>\n",
       "      <td>\\n  The laptop is slow sometimes get stuck and...</td>\n",
       "      <td>2.0 out of 5 stars</td>\n",
       "    </tr>\n",
       "    <tr>\n",
       "      <th>...</th>\n",
       "      <td>...</td>\n",
       "      <td>...</td>\n",
       "      <td>...</td>\n",
       "    </tr>\n",
       "    <tr>\n",
       "      <th>101123</th>\n",
       "      <td>Fair</td>\n",
       "      <td>Goods:\\nThe picture quality is good.\\nHeight a...</td>\n",
       "      <td>3</td>\n",
       "    </tr>\n",
       "    <tr>\n",
       "      <th>101124</th>\n",
       "      <td>Wonderful</td>\n",
       "      <td>Too much of back light bleeding.\\nWorth the mo...</td>\n",
       "      <td>4</td>\n",
       "    </tr>\n",
       "    <tr>\n",
       "      <th>101125</th>\n",
       "      <td>Design looks very good</td>\n",
       "      <td>Design looks very good. fixed stand so no adju...</td>\n",
       "      <td>5</td>\n",
       "    </tr>\n",
       "    <tr>\n",
       "      <th>101126</th>\n",
       "      <td>Brilliant</td>\n",
       "      <td>I love product. Very nice working.</td>\n",
       "      <td>5</td>\n",
       "    </tr>\n",
       "    <tr>\n",
       "      <th>101127</th>\n",
       "      <td>Simply awesome</td>\n",
       "      <td>Very good product</td>\n",
       "      <td>5</td>\n",
       "    </tr>\n",
       "  </tbody>\n",
       "</table>\n",
       "<p>101128 rows × 3 columns</p>\n",
       "</div>"
      ],
      "text/plain": [
       "                                             Review_title  \\\n",
       "0                                   Not suitable for work   \n",
       "1                              Not worth for what you pay   \n",
       "2                                            Good Product   \n",
       "3                                             Not advised   \n",
       "4       The laptop hangs, sometimes gets stuck and it ...   \n",
       "...                                                   ...   \n",
       "101123                                               Fair   \n",
       "101124                                          Wonderful   \n",
       "101125                             Design looks very good   \n",
       "101126                                          Brilliant   \n",
       "101127                                     Simply awesome   \n",
       "\n",
       "                                              Review_text             Ratings  \n",
       "0       \\n  It took me one month to get my laptop work...  2.0 out of 5 stars  \n",
       "1       \\n  You can buy the same for better price dire...  2.0 out of 5 stars  \n",
       "2       \\n  Overall Product... upgraded windows 11 and...  2.0 out of 5 stars  \n",
       "3       \\n  Theres a scratch already in the screen and...  2.0 out of 5 stars  \n",
       "4       \\n  The laptop is slow sometimes get stuck and...  2.0 out of 5 stars  \n",
       "...                                                   ...                 ...  \n",
       "101123  Goods:\\nThe picture quality is good.\\nHeight a...                   3  \n",
       "101124  Too much of back light bleeding.\\nWorth the mo...                   4  \n",
       "101125  Design looks very good. fixed stand so no adju...                   5  \n",
       "101126                 I love product. Very nice working.                   5  \n",
       "101127                                  Very good product                   5  \n",
       "\n",
       "[101128 rows x 3 columns]"
      ]
     },
     "execution_count": 4,
     "metadata": {},
     "output_type": "execute_result"
    }
   ],
   "source": [
    "# import dataset\n",
    "df=pd.read_excel('flipkart_Ratings.xlsx')\n",
    "df"
   ]
  },
  {
   "cell_type": "code",
   "execution_count": 5,
   "id": "98405ddb",
   "metadata": {},
   "outputs": [],
   "source": [
    "df=df.head(52225)"
   ]
  },
  {
   "cell_type": "code",
   "execution_count": 6,
   "id": "b67befe5",
   "metadata": {},
   "outputs": [
    {
     "name": "stdout",
     "output_type": "stream",
     "text": [
      "<class 'pandas.core.frame.DataFrame'>\n",
      "RangeIndex: 52225 entries, 0 to 52224\n",
      "Data columns (total 3 columns):\n",
      " #   Column        Non-Null Count  Dtype \n",
      "---  ------        --------------  ----- \n",
      " 0   Review_title  43443 non-null  object\n",
      " 1   Review_text   43615 non-null  object\n",
      " 2   Ratings       43445 non-null  object\n",
      "dtypes: object(3)\n",
      "memory usage: 1.2+ MB\n"
     ]
    }
   ],
   "source": [
    "# check information about dataset\n",
    "df.info()"
   ]
  },
  {
   "cell_type": "markdown",
   "id": "2a9a4328",
   "metadata": {},
   "source": [
    "1. In our dataset we have 101128 rows and 3 columns.\n",
    "2. All data is in object type data.\n",
    "3. In our dataset null values are present."
   ]
  },
  {
   "cell_type": "code",
   "execution_count": 7,
   "id": "03314601",
   "metadata": {},
   "outputs": [
    {
     "data": {
      "text/plain": [
       "Review_title    8782\n",
       "Review_text     8610\n",
       "Ratings         8780\n",
       "dtype: int64"
      ]
     },
     "execution_count": 7,
     "metadata": {},
     "output_type": "execute_result"
    }
   ],
   "source": [
    "# check null values\n",
    "df.isnull().sum()"
   ]
  },
  {
   "cell_type": "markdown",
   "id": "e2525f55",
   "metadata": {},
   "source": [
    "Null values are present in dataset"
   ]
  },
  {
   "cell_type": "code",
   "execution_count": 8,
   "id": "e02caa98",
   "metadata": {},
   "outputs": [
    {
     "data": {
      "image/png": "[encoded data removed]",
      "text/plain": [
       "<Figure size 640x480 with 2 Axes>"
      ]
     },
     "metadata": {},
     "output_type": "display_data"
    }
   ],
   "source": [
    "# check null values by plotting heatmap\n",
    "sns.heatmap(df.isnull())\n",
    "plt.title('Check null value')\n",
    "plt.show()"
   ]
  },
  {
   "cell_type": "code",
   "execution_count": 9,
   "id": "b4dc6234",
   "metadata": {},
   "outputs": [
    {
     "data": {
      "text/plain": [
       "Review_title    True\n",
       "Review_text     True\n",
       "Ratings         True\n",
       "dtype: bool"
      ]
     },
     "execution_count": 9,
     "metadata": {},
     "output_type": "execute_result"
    }
   ],
   "source": [
    "df.isnull().any()"
   ]
  },
  {
   "cell_type": "code",
   "execution_count": 10,
   "id": "98ed7ea8",
   "metadata": {},
   "outputs": [
    {
     "data": {
      "text/html": [
       "<div>\n",
       "<style scoped>\n",
       "    .dataframe tbody tr th:only-of-type {\n",
       "        vertical-align: middle;\n",
       "    }\n",
       "\n",
       "    .dataframe tbody tr th {\n",
       "        vertical-align: top;\n",
       "    }\n",
       "\n",
       "    .dataframe thead th {\n",
       "        text-align: right;\n",
       "    }\n",
       "</style>\n",
       "<table border=\"1\" class=\"dataframe\">\n",
       "  <thead>\n",
       "    <tr style=\"text-align: right;\">\n",
       "      <th></th>\n",
       "      <th>Null Values</th>\n",
       "      <th>% of null values</th>\n",
       "    </tr>\n",
       "  </thead>\n",
       "  <tbody>\n",
       "    <tr>\n",
       "      <th>Review_title</th>\n",
       "      <td>8782</td>\n",
       "      <td>8.684044</td>\n",
       "    </tr>\n",
       "    <tr>\n",
       "      <th>Review_text</th>\n",
       "      <td>8610</td>\n",
       "      <td>8.513963</td>\n",
       "    </tr>\n",
       "    <tr>\n",
       "      <th>Ratings</th>\n",
       "      <td>8780</td>\n",
       "      <td>8.682066</td>\n",
       "    </tr>\n",
       "  </tbody>\n",
       "</table>\n",
       "</div>"
      ],
      "text/plain": [
       "              Null Values  % of null values\n",
       "Review_title         8782          8.684044\n",
       "Review_text          8610          8.513963\n",
       "Ratings              8780          8.682066"
      ]
     },
     "execution_count": 10,
     "metadata": {},
     "output_type": "execute_result"
    }
   ],
   "source": [
    "null=pd.DataFrame(df[df.columns[df.isnull().any()]].isnull().sum())\n",
    "null.columns=['Null Values']\n",
    "null['% of null values']=null['Null Values']*100/101128\n",
    "null"
   ]
  },
  {
   "cell_type": "markdown",
   "id": "8e2b292a",
   "metadata": {},
   "source": [
    "# Fill null values by mode technique"
   ]
  },
  {
   "cell_type": "code",
   "execution_count": 11,
   "id": "2d9ab57d",
   "metadata": {},
   "outputs": [
    {
     "name": "stdout",
     "output_type": "stream",
     "text": [
      "In Review_title highest value is : 0    Good\n",
      "Name: Review_title, dtype: object\n",
      "\n",
      "\n",
      "In Review_text highest value is : 0    \\n  Good\\n\n",
      "Name: Review_text, dtype: object\n",
      "\n",
      "\n",
      "In Ratings highest value is : 0    5.0 out of 5 stars\n",
      "Name: Ratings, dtype: object\n",
      "\n",
      "\n"
     ]
    }
   ],
   "source": [
    "for i in df.columns:\n",
    "    print(f\"In {i} highest value is : {df[i].mode()}\")\n",
    "    print('\\n')"
   ]
  },
  {
   "cell_type": "code",
   "execution_count": 12,
   "id": "1e65f5ee",
   "metadata": {},
   "outputs": [],
   "source": [
    "col=df.columns\n",
    "for i in range(0,len(col)):\n",
    "    if df[col[i]].dtype==\"object\":\n",
    "        df[col[i]].fillna(df[col[i]].mode()[0],inplace=True)"
   ]
  },
  {
   "cell_type": "code",
   "execution_count": 13,
   "id": "a478fbd7",
   "metadata": {},
   "outputs": [
    {
     "data": {
      "text/plain": [
       "Review_title    0\n",
       "Review_text     0\n",
       "Ratings         0\n",
       "dtype: int64"
      ]
     },
     "execution_count": 13,
     "metadata": {},
     "output_type": "execute_result"
    }
   ],
   "source": [
    "df.isnull().sum()"
   ]
  },
  {
   "cell_type": "markdown",
   "id": "6cc172de",
   "metadata": {},
   "source": [
    "now no null values are present in dataset"
   ]
  },
  {
   "cell_type": "code",
   "execution_count": 14,
   "id": "7b66e001",
   "metadata": {},
   "outputs": [
    {
     "data": {
      "image/png": "[encoded data removed]",
      "text/plain": [
       "<Figure size 640x480 with 2 Axes>"
      ]
     },
     "metadata": {},
     "output_type": "display_data"
    }
   ],
   "source": [
    "# now plot heatmap after apply imputation method\n",
    "sns.heatmap(df.isnull())\n",
    "plt.show()"
   ]
  },
  {
   "cell_type": "markdown",
   "id": "6afdbbd1",
   "metadata": {},
   "source": [
    "we cleary see that no null values are present in our dataset"
   ]
  },
  {
   "cell_type": "code",
   "execution_count": 15,
   "id": "c5e7bff4",
   "metadata": {},
   "outputs": [
    {
     "data": {
      "text/html": [
       "<div>\n",
       "<style scoped>\n",
       "    .dataframe tbody tr th:only-of-type {\n",
       "        vertical-align: middle;\n",
       "    }\n",
       "\n",
       "    .dataframe tbody tr th {\n",
       "        vertical-align: top;\n",
       "    }\n",
       "\n",
       "    .dataframe thead th {\n",
       "        text-align: right;\n",
       "    }\n",
       "</style>\n",
       "<table border=\"1\" class=\"dataframe\">\n",
       "  <thead>\n",
       "    <tr style=\"text-align: right;\">\n",
       "      <th></th>\n",
       "      <th>No. of unique values</th>\n",
       "    </tr>\n",
       "  </thead>\n",
       "  <tbody>\n",
       "    <tr>\n",
       "      <th>Review_title</th>\n",
       "      <td>27818</td>\n",
       "    </tr>\n",
       "    <tr>\n",
       "      <th>Review_text</th>\n",
       "      <td>33884</td>\n",
       "    </tr>\n",
       "    <tr>\n",
       "      <th>Ratings</th>\n",
       "      <td>5</td>\n",
       "    </tr>\n",
       "  </tbody>\n",
       "</table>\n",
       "</div>"
      ],
      "text/plain": [
       "              No. of unique values\n",
       "Review_title                 27818\n",
       "Review_text                  33884\n",
       "Ratings                          5"
      ]
     },
     "execution_count": 15,
     "metadata": {},
     "output_type": "execute_result"
    }
   ],
   "source": [
    "# checking unique values in dataset\n",
    "df.nunique().to_frame('No. of unique values')"
   ]
  },
  {
   "cell_type": "markdown",
   "id": "6f13ee6e",
   "metadata": {},
   "source": [
    "Number of unique values in dataset"
   ]
  },
  {
   "cell_type": "code",
   "execution_count": 16,
   "id": "6568bde1",
   "metadata": {},
   "outputs": [
    {
     "name": "stdout",
     "output_type": "stream",
     "text": [
      "Good                                                            9459\n",
      "Value for money                                                  388\n",
      "Good product                                                     310\n",
      "Nice                                                             179\n",
      "Average                                                          164\n",
      "                                                                ... \n",
      "Worest product. don't buy                                          1\n",
      "Very low quality, not good customer dealing of sales person.       1\n",
      "Noise cancellation is worst                                        1\n",
      "Not interested this product is not working and not useful          1\n",
      "LG true gaming Monitor                                             1\n",
      "Name: Review_title, Length: 27818, dtype: int64\n",
      "******\n",
      "\\n  Good\\n                                                                                      8888\n",
      "\\n  Good product\\n                                                                                84\n",
      "\\n  Nice\\n                                                                                        80\n",
      "\\n  Ok\\n                                                                                          77\n",
      "\\n  Value for money\\n                                                                             42\n",
      "                                                                                                ... \n",
      "\\n  This neckband was awesome but one small issue is battery back-up it's draining quickly\\n       1\n",
      "\\n  I need to replace it.\\n                                                                        1\n",
      "\\n  Worthy product...does meet all the expectations in all departments.\\n                          1\n",
      "\\n  Not charging properly needs replacement\\n                                                      1\n",
      "\\n  Great Product by LG\\n                                                                          1\n",
      "Name: Review_text, Length: 33884, dtype: int64\n",
      "******\n",
      "5.0 out of 5 stars    19099\n",
      "1.0 out of 5 stars     9399\n",
      "4.0 out of 5 stars     9110\n",
      "3.0 out of 5 stars     7721\n",
      "2.0 out of 5 stars     6896\n",
      "Name: Ratings, dtype: int64\n",
      "******\n"
     ]
    }
   ],
   "source": [
    "# checking values count in dataset\n",
    "for i in df.columns:\n",
    "    print(df[i].value_counts())\n",
    "    print('******')"
   ]
  },
  {
   "cell_type": "code",
   "execution_count": 17,
   "id": "aa1dc0ed",
   "metadata": {},
   "outputs": [],
   "source": [
    "# Replacing duplicated values in raing columns\n",
    "df['Ratings']=df['Ratings'].replace('1.0 out of 5 stars',1)\n",
    "df['Ratings']=df['Ratings'].replace('2.0 out of 5 stars',2)\n",
    "df['Ratings']=df['Ratings'].replace('3.0 out of 5 stars',3)\n",
    "df['Ratings']=df['Ratings'].replace('4.0 out of 5 stars',4)\n",
    "df['Ratings']=df['Ratings'].replace('5.0 out of 5 stars',5)"
   ]
  },
  {
   "cell_type": "code",
   "execution_count": 18,
   "id": "955cafb4",
   "metadata": {},
   "outputs": [
    {
     "data": {
      "text/plain": [
       "5    19099\n",
       "1     9399\n",
       "4     9110\n",
       "3     7721\n",
       "2     6896\n",
       "Name: Ratings, dtype: int64"
      ]
     },
     "execution_count": 18,
     "metadata": {},
     "output_type": "execute_result"
    }
   ],
   "source": [
    "# checking values in review column after replacing unwanted data\n",
    "df['Ratings'].value_counts()"
   ]
  },
  {
   "cell_type": "markdown",
   "id": "2b86528a",
   "metadata": {},
   "source": [
    "Now we converted all duplicated values in ratings columns"
   ]
  },
  {
   "cell_type": "code",
   "execution_count": 19,
   "id": "476d8863",
   "metadata": {},
   "outputs": [],
   "source": [
    "# change type of Ratings columns\n",
    "df['Ratings']=df['Ratings'].astype('int')"
   ]
  },
  {
   "cell_type": "code",
   "execution_count": 20,
   "id": "bebc3374",
   "metadata": {},
   "outputs": [
    {
     "data": {
      "text/plain": [
       "dtype('int32')"
      ]
     },
     "execution_count": 20,
     "metadata": {},
     "output_type": "execute_result"
    }
   ],
   "source": [
    "# check dtypes of Rating Columns\n",
    "df['Ratings'].dtype"
   ]
  },
  {
   "cell_type": "markdown",
   "id": "a044a574",
   "metadata": {},
   "source": [
    "Now we convert all object type data into int type of Rating columns"
   ]
  },
  {
   "cell_type": "code",
   "execution_count": 21,
   "id": "c6b763d2",
   "metadata": {},
   "outputs": [
    {
     "data": {
      "text/html": [
       "<div>\n",
       "<style scoped>\n",
       "    .dataframe tbody tr th:only-of-type {\n",
       "        vertical-align: middle;\n",
       "    }\n",
       "\n",
       "    .dataframe tbody tr th {\n",
       "        vertical-align: top;\n",
       "    }\n",
       "\n",
       "    .dataframe thead th {\n",
       "        text-align: right;\n",
       "    }\n",
       "</style>\n",
       "<table border=\"1\" class=\"dataframe\">\n",
       "  <thead>\n",
       "    <tr style=\"text-align: right;\">\n",
       "      <th></th>\n",
       "      <th>Review_title</th>\n",
       "      <th>Review_text</th>\n",
       "      <th>Ratings</th>\n",
       "    </tr>\n",
       "  </thead>\n",
       "  <tbody>\n",
       "    <tr>\n",
       "      <th>0</th>\n",
       "      <td>Not suitable for work</td>\n",
       "      <td>\\n  It took me one month to get my laptop work...</td>\n",
       "      <td>2</td>\n",
       "    </tr>\n",
       "    <tr>\n",
       "      <th>1</th>\n",
       "      <td>Not worth for what you pay</td>\n",
       "      <td>\\n  You can buy the same for better price dire...</td>\n",
       "      <td>2</td>\n",
       "    </tr>\n",
       "    <tr>\n",
       "      <th>2</th>\n",
       "      <td>Good Product</td>\n",
       "      <td>\\n  Overall Product... upgraded windows 11 and...</td>\n",
       "      <td>2</td>\n",
       "    </tr>\n",
       "    <tr>\n",
       "      <th>3</th>\n",
       "      <td>Not advised</td>\n",
       "      <td>\\n  Theres a scratch already in the screen and...</td>\n",
       "      <td>2</td>\n",
       "    </tr>\n",
       "    <tr>\n",
       "      <th>4</th>\n",
       "      <td>The laptop hangs, sometimes gets stuck and it ...</td>\n",
       "      <td>\\n  The laptop is slow sometimes get stuck and...</td>\n",
       "      <td>2</td>\n",
       "    </tr>\n",
       "    <tr>\n",
       "      <th>...</th>\n",
       "      <td>...</td>\n",
       "      <td>...</td>\n",
       "      <td>...</td>\n",
       "    </tr>\n",
       "    <tr>\n",
       "      <th>52220</th>\n",
       "      <td>Paisa wasool product</td>\n",
       "      <td>\\n  Full paisa wasool  product🤑🤑\\n</td>\n",
       "      <td>4</td>\n",
       "    </tr>\n",
       "    <tr>\n",
       "      <th>52221</th>\n",
       "      <td>Good product for this price range go for it</td>\n",
       "      <td>\\n  Good product\\n</td>\n",
       "      <td>4</td>\n",
       "    </tr>\n",
       "    <tr>\n",
       "      <th>52222</th>\n",
       "      <td>Super</td>\n",
       "      <td>\\n  Super\\n</td>\n",
       "      <td>4</td>\n",
       "    </tr>\n",
       "    <tr>\n",
       "      <th>52223</th>\n",
       "      <td>LG true gaming Monitor</td>\n",
       "      <td>\\n  Great Product by LG\\n</td>\n",
       "      <td>4</td>\n",
       "    </tr>\n",
       "    <tr>\n",
       "      <th>52224</th>\n",
       "      <td>Good product</td>\n",
       "      <td>\\n  Good quality product\\n</td>\n",
       "      <td>4</td>\n",
       "    </tr>\n",
       "  </tbody>\n",
       "</table>\n",
       "<p>52225 rows × 3 columns</p>\n",
       "</div>"
      ],
      "text/plain": [
       "                                            Review_title  \\\n",
       "0                                  Not suitable for work   \n",
       "1                             Not worth for what you pay   \n",
       "2                                           Good Product   \n",
       "3                                            Not advised   \n",
       "4      The laptop hangs, sometimes gets stuck and it ...   \n",
       "...                                                  ...   \n",
       "52220                               Paisa wasool product   \n",
       "52221        Good product for this price range go for it   \n",
       "52222                                              Super   \n",
       "52223                             LG true gaming Monitor   \n",
       "52224                                       Good product   \n",
       "\n",
       "                                             Review_text  Ratings  \n",
       "0      \\n  It took me one month to get my laptop work...        2  \n",
       "1      \\n  You can buy the same for better price dire...        2  \n",
       "2      \\n  Overall Product... upgraded windows 11 and...        2  \n",
       "3      \\n  Theres a scratch already in the screen and...        2  \n",
       "4      \\n  The laptop is slow sometimes get stuck and...        2  \n",
       "...                                                  ...      ...  \n",
       "52220                 \\n  Full paisa wasool  product🤑🤑\\n        4  \n",
       "52221                                 \\n  Good product\\n        4  \n",
       "52222                                        \\n  Super\\n        4  \n",
       "52223                          \\n  Great Product by LG\\n        4  \n",
       "52224                         \\n  Good quality product\\n        4  \n",
       "\n",
       "[52225 rows x 3 columns]"
      ]
     },
     "execution_count": 21,
     "metadata": {},
     "output_type": "execute_result"
    }
   ],
   "source": [
    "df"
   ]
  },
  {
   "cell_type": "markdown",
   "id": "d3570b7a",
   "metadata": {},
   "source": [
    "# Now merge Review_title and Review_text for better result"
   ]
  },
  {
   "cell_type": "code",
   "execution_count": 22,
   "id": "6ccc66d9",
   "metadata": {},
   "outputs": [],
   "source": [
    "df['Total_review']=df['Review_title'] + df['Review_text']"
   ]
  },
  {
   "cell_type": "code",
   "execution_count": 23,
   "id": "3d305a58",
   "metadata": {},
   "outputs": [
    {
     "data": {
      "text/html": [
       "<div>\n",
       "<style scoped>\n",
       "    .dataframe tbody tr th:only-of-type {\n",
       "        vertical-align: middle;\n",
       "    }\n",
       "\n",
       "    .dataframe tbody tr th {\n",
       "        vertical-align: top;\n",
       "    }\n",
       "\n",
       "    .dataframe thead th {\n",
       "        text-align: right;\n",
       "    }\n",
       "</style>\n",
       "<table border=\"1\" class=\"dataframe\">\n",
       "  <thead>\n",
       "    <tr style=\"text-align: right;\">\n",
       "      <th></th>\n",
       "      <th>Review_title</th>\n",
       "      <th>Review_text</th>\n",
       "      <th>Ratings</th>\n",
       "      <th>Total_review</th>\n",
       "    </tr>\n",
       "  </thead>\n",
       "  <tbody>\n",
       "    <tr>\n",
       "      <th>0</th>\n",
       "      <td>Not suitable for work</td>\n",
       "      <td>\\n  It took me one month to get my laptop work...</td>\n",
       "      <td>2</td>\n",
       "      <td>Not suitable for work\\n  It took me one month ...</td>\n",
       "    </tr>\n",
       "    <tr>\n",
       "      <th>1</th>\n",
       "      <td>Not worth for what you pay</td>\n",
       "      <td>\\n  You can buy the same for better price dire...</td>\n",
       "      <td>2</td>\n",
       "      <td>Not worth for what you pay\\n  You can buy the ...</td>\n",
       "    </tr>\n",
       "    <tr>\n",
       "      <th>2</th>\n",
       "      <td>Good Product</td>\n",
       "      <td>\\n  Overall Product... upgraded windows 11 and...</td>\n",
       "      <td>2</td>\n",
       "      <td>Good Product\\n  Overall Product... upgraded wi...</td>\n",
       "    </tr>\n",
       "    <tr>\n",
       "      <th>3</th>\n",
       "      <td>Not advised</td>\n",
       "      <td>\\n  Theres a scratch already in the screen and...</td>\n",
       "      <td>2</td>\n",
       "      <td>Not advised\\n  Theres a scratch already in the...</td>\n",
       "    </tr>\n",
       "    <tr>\n",
       "      <th>4</th>\n",
       "      <td>The laptop hangs, sometimes gets stuck and it ...</td>\n",
       "      <td>\\n  The laptop is slow sometimes get stuck and...</td>\n",
       "      <td>2</td>\n",
       "      <td>The laptop hangs, sometimes gets stuck and it ...</td>\n",
       "    </tr>\n",
       "    <tr>\n",
       "      <th>...</th>\n",
       "      <td>...</td>\n",
       "      <td>...</td>\n",
       "      <td>...</td>\n",
       "      <td>...</td>\n",
       "    </tr>\n",
       "    <tr>\n",
       "      <th>52220</th>\n",
       "      <td>Paisa wasool product</td>\n",
       "      <td>\\n  Full paisa wasool  product🤑🤑\\n</td>\n",
       "      <td>4</td>\n",
       "      <td>Paisa wasool product\\n  Full paisa wasool  pro...</td>\n",
       "    </tr>\n",
       "    <tr>\n",
       "      <th>52221</th>\n",
       "      <td>Good product for this price range go for it</td>\n",
       "      <td>\\n  Good product\\n</td>\n",
       "      <td>4</td>\n",
       "      <td>Good product for this price range go for it\\n ...</td>\n",
       "    </tr>\n",
       "    <tr>\n",
       "      <th>52222</th>\n",
       "      <td>Super</td>\n",
       "      <td>\\n  Super\\n</td>\n",
       "      <td>4</td>\n",
       "      <td>Super\\n  Super\\n</td>\n",
       "    </tr>\n",
       "    <tr>\n",
       "      <th>52223</th>\n",
       "      <td>LG true gaming Monitor</td>\n",
       "      <td>\\n  Great Product by LG\\n</td>\n",
       "      <td>4</td>\n",
       "      <td>LG true gaming Monitor\\n  Great Product by LG\\n</td>\n",
       "    </tr>\n",
       "    <tr>\n",
       "      <th>52224</th>\n",
       "      <td>Good product</td>\n",
       "      <td>\\n  Good quality product\\n</td>\n",
       "      <td>4</td>\n",
       "      <td>Good product\\n  Good quality product\\n</td>\n",
       "    </tr>\n",
       "  </tbody>\n",
       "</table>\n",
       "<p>52225 rows × 4 columns</p>\n",
       "</div>"
      ],
      "text/plain": [
       "                                            Review_title  \\\n",
       "0                                  Not suitable for work   \n",
       "1                             Not worth for what you pay   \n",
       "2                                           Good Product   \n",
       "3                                            Not advised   \n",
       "4      The laptop hangs, sometimes gets stuck and it ...   \n",
       "...                                                  ...   \n",
       "52220                               Paisa wasool product   \n",
       "52221        Good product for this price range go for it   \n",
       "52222                                              Super   \n",
       "52223                             LG true gaming Monitor   \n",
       "52224                                       Good product   \n",
       "\n",
       "                                             Review_text  Ratings  \\\n",
       "0      \\n  It took me one month to get my laptop work...        2   \n",
       "1      \\n  You can buy the same for better price dire...        2   \n",
       "2      \\n  Overall Product... upgraded windows 11 and...        2   \n",
       "3      \\n  Theres a scratch already in the screen and...        2   \n",
       "4      \\n  The laptop is slow sometimes get stuck and...        2   \n",
       "...                                                  ...      ...   \n",
       "52220                 \\n  Full paisa wasool  product🤑🤑\\n        4   \n",
       "52221                                 \\n  Good product\\n        4   \n",
       "52222                                        \\n  Super\\n        4   \n",
       "52223                          \\n  Great Product by LG\\n        4   \n",
       "52224                         \\n  Good quality product\\n        4   \n",
       "\n",
       "                                            Total_review  \n",
       "0      Not suitable for work\\n  It took me one month ...  \n",
       "1      Not worth for what you pay\\n  You can buy the ...  \n",
       "2      Good Product\\n  Overall Product... upgraded wi...  \n",
       "3      Not advised\\n  Theres a scratch already in the...  \n",
       "4      The laptop hangs, sometimes gets stuck and it ...  \n",
       "...                                                  ...  \n",
       "52220  Paisa wasool product\\n  Full paisa wasool  pro...  \n",
       "52221  Good product for this price range go for it\\n ...  \n",
       "52222                                   Super\\n  Super\\n  \n",
       "52223    LG true gaming Monitor\\n  Great Product by LG\\n  \n",
       "52224             Good product\\n  Good quality product\\n  \n",
       "\n",
       "[52225 rows x 4 columns]"
      ]
     },
     "execution_count": 23,
     "metadata": {},
     "output_type": "execute_result"
    }
   ],
   "source": [
    "df"
   ]
  },
  {
   "cell_type": "markdown",
   "id": "9fa72e75",
   "metadata": {},
   "source": [
    "Now remove Review title and Review text bcoz we make new column od Total review"
   ]
  },
  {
   "cell_type": "code",
   "execution_count": 24,
   "id": "48d72b86",
   "metadata": {},
   "outputs": [],
   "source": [
    "# drop review text and review title\n",
    "df.drop(['Review_title','Review_text'],axis=1,inplace=True)"
   ]
  },
  {
   "cell_type": "code",
   "execution_count": 25,
   "id": "51b96292",
   "metadata": {},
   "outputs": [
    {
     "data": {
      "text/html": [
       "<div>\n",
       "<style scoped>\n",
       "    .dataframe tbody tr th:only-of-type {\n",
       "        vertical-align: middle;\n",
       "    }\n",
       "\n",
       "    .dataframe tbody tr th {\n",
       "        vertical-align: top;\n",
       "    }\n",
       "\n",
       "    .dataframe thead th {\n",
       "        text-align: right;\n",
       "    }\n",
       "</style>\n",
       "<table border=\"1\" class=\"dataframe\">\n",
       "  <thead>\n",
       "    <tr style=\"text-align: right;\">\n",
       "      <th></th>\n",
       "      <th>Ratings</th>\n",
       "      <th>Total_review</th>\n",
       "    </tr>\n",
       "  </thead>\n",
       "  <tbody>\n",
       "    <tr>\n",
       "      <th>0</th>\n",
       "      <td>2</td>\n",
       "      <td>Not suitable for work\\n  It took me one month ...</td>\n",
       "    </tr>\n",
       "    <tr>\n",
       "      <th>1</th>\n",
       "      <td>2</td>\n",
       "      <td>Not worth for what you pay\\n  You can buy the ...</td>\n",
       "    </tr>\n",
       "    <tr>\n",
       "      <th>2</th>\n",
       "      <td>2</td>\n",
       "      <td>Good Product\\n  Overall Product... upgraded wi...</td>\n",
       "    </tr>\n",
       "    <tr>\n",
       "      <th>3</th>\n",
       "      <td>2</td>\n",
       "      <td>Not advised\\n  Theres a scratch already in the...</td>\n",
       "    </tr>\n",
       "    <tr>\n",
       "      <th>4</th>\n",
       "      <td>2</td>\n",
       "      <td>The laptop hangs, sometimes gets stuck and it ...</td>\n",
       "    </tr>\n",
       "    <tr>\n",
       "      <th>...</th>\n",
       "      <td>...</td>\n",
       "      <td>...</td>\n",
       "    </tr>\n",
       "    <tr>\n",
       "      <th>52220</th>\n",
       "      <td>4</td>\n",
       "      <td>Paisa wasool product\\n  Full paisa wasool  pro...</td>\n",
       "    </tr>\n",
       "    <tr>\n",
       "      <th>52221</th>\n",
       "      <td>4</td>\n",
       "      <td>Good product for this price range go for it\\n ...</td>\n",
       "    </tr>\n",
       "    <tr>\n",
       "      <th>52222</th>\n",
       "      <td>4</td>\n",
       "      <td>Super\\n  Super\\n</td>\n",
       "    </tr>\n",
       "    <tr>\n",
       "      <th>52223</th>\n",
       "      <td>4</td>\n",
       "      <td>LG true gaming Monitor\\n  Great Product by LG\\n</td>\n",
       "    </tr>\n",
       "    <tr>\n",
       "      <th>52224</th>\n",
       "      <td>4</td>\n",
       "      <td>Good product\\n  Good quality product\\n</td>\n",
       "    </tr>\n",
       "  </tbody>\n",
       "</table>\n",
       "<p>52225 rows × 2 columns</p>\n",
       "</div>"
      ],
      "text/plain": [
       "       Ratings                                       Total_review\n",
       "0            2  Not suitable for work\\n  It took me one month ...\n",
       "1            2  Not worth for what you pay\\n  You can buy the ...\n",
       "2            2  Good Product\\n  Overall Product... upgraded wi...\n",
       "3            2  Not advised\\n  Theres a scratch already in the...\n",
       "4            2  The laptop hangs, sometimes gets stuck and it ...\n",
       "...        ...                                                ...\n",
       "52220        4  Paisa wasool product\\n  Full paisa wasool  pro...\n",
       "52221        4  Good product for this price range go for it\\n ...\n",
       "52222        4                                   Super\\n  Super\\n\n",
       "52223        4    LG true gaming Monitor\\n  Great Product by LG\\n\n",
       "52224        4             Good product\\n  Good quality product\\n\n",
       "\n",
       "[52225 rows x 2 columns]"
      ]
     },
     "execution_count": 25,
     "metadata": {},
     "output_type": "execute_result"
    }
   ],
   "source": [
    "df"
   ]
  },
  {
   "cell_type": "markdown",
   "id": "a28647e9",
   "metadata": {},
   "source": [
    "# Text Preprocessing\n",
    "Using the text preprocessing techniques we can remove noise from raw data and makes raw data more valuable for building models. Pre-processing involves the following steps, but these will be performed in a slightly different manner:\n",
    "\n",
    "1. Text case conversion\n",
    "2. Removing Punctuations and other special characters\n",
    "3. Splitting the comments into individual words\n",
    "4. Removing Stop Words\n",
    "5. Stemming and Lemmatization\n",
    "6. Text Standardization-Normalization\n",
    "7. Splitting dataset into Training and Testing"
   ]
  },
  {
   "cell_type": "code",
   "execution_count": 26,
   "id": "2e7331a9",
   "metadata": {},
   "outputs": [
    {
     "data": {
      "text/html": [
       "<div>\n",
       "<style scoped>\n",
       "    .dataframe tbody tr th:only-of-type {\n",
       "        vertical-align: middle;\n",
       "    }\n",
       "\n",
       "    .dataframe tbody tr th {\n",
       "        vertical-align: top;\n",
       "    }\n",
       "\n",
       "    .dataframe thead th {\n",
       "        text-align: right;\n",
       "    }\n",
       "</style>\n",
       "<table border=\"1\" class=\"dataframe\">\n",
       "  <thead>\n",
       "    <tr style=\"text-align: right;\">\n",
       "      <th></th>\n",
       "      <th>Ratings</th>\n",
       "      <th>Total_review</th>\n",
       "      <th>Length</th>\n",
       "    </tr>\n",
       "  </thead>\n",
       "  <tbody>\n",
       "    <tr>\n",
       "      <th>0</th>\n",
       "      <td>2</td>\n",
       "      <td>Not suitable for work\\n  It took me one month ...</td>\n",
       "      <td>409</td>\n",
       "    </tr>\n",
       "    <tr>\n",
       "      <th>1</th>\n",
       "      <td>2</td>\n",
       "      <td>Not worth for what you pay\\n  You can buy the ...</td>\n",
       "      <td>440</td>\n",
       "    </tr>\n",
       "    <tr>\n",
       "      <th>2</th>\n",
       "      <td>2</td>\n",
       "      <td>Good Product\\n  Overall Product... upgraded wi...</td>\n",
       "      <td>105</td>\n",
       "    </tr>\n",
       "    <tr>\n",
       "      <th>3</th>\n",
       "      <td>2</td>\n",
       "      <td>Not advised\\n  Theres a scratch already in the...</td>\n",
       "      <td>146</td>\n",
       "    </tr>\n",
       "    <tr>\n",
       "      <th>4</th>\n",
       "      <td>2</td>\n",
       "      <td>The laptop hangs, sometimes gets stuck and it ...</td>\n",
       "      <td>370</td>\n",
       "    </tr>\n",
       "    <tr>\n",
       "      <th>...</th>\n",
       "      <td>...</td>\n",
       "      <td>...</td>\n",
       "      <td>...</td>\n",
       "    </tr>\n",
       "    <tr>\n",
       "      <th>52220</th>\n",
       "      <td>4</td>\n",
       "      <td>Paisa wasool product\\n  Full paisa wasool  pro...</td>\n",
       "      <td>52</td>\n",
       "    </tr>\n",
       "    <tr>\n",
       "      <th>52221</th>\n",
       "      <td>4</td>\n",
       "      <td>Good product for this price range go for it\\n ...</td>\n",
       "      <td>59</td>\n",
       "    </tr>\n",
       "    <tr>\n",
       "      <th>52222</th>\n",
       "      <td>4</td>\n",
       "      <td>Super\\n  Super\\n</td>\n",
       "      <td>14</td>\n",
       "    </tr>\n",
       "    <tr>\n",
       "      <th>52223</th>\n",
       "      <td>4</td>\n",
       "      <td>LG true gaming Monitor\\n  Great Product by LG\\n</td>\n",
       "      <td>45</td>\n",
       "    </tr>\n",
       "    <tr>\n",
       "      <th>52224</th>\n",
       "      <td>4</td>\n",
       "      <td>Good product\\n  Good quality product\\n</td>\n",
       "      <td>36</td>\n",
       "    </tr>\n",
       "  </tbody>\n",
       "</table>\n",
       "<p>52225 rows × 3 columns</p>\n",
       "</div>"
      ],
      "text/plain": [
       "       Ratings                                       Total_review  Length\n",
       "0            2  Not suitable for work\\n  It took me one month ...     409\n",
       "1            2  Not worth for what you pay\\n  You can buy the ...     440\n",
       "2            2  Good Product\\n  Overall Product... upgraded wi...     105\n",
       "3            2  Not advised\\n  Theres a scratch already in the...     146\n",
       "4            2  The laptop hangs, sometimes gets stuck and it ...     370\n",
       "...        ...                                                ...     ...\n",
       "52220        4  Paisa wasool product\\n  Full paisa wasool  pro...      52\n",
       "52221        4  Good product for this price range go for it\\n ...      59\n",
       "52222        4                                   Super\\n  Super\\n      14\n",
       "52223        4    LG true gaming Monitor\\n  Great Product by LG\\n      45\n",
       "52224        4             Good product\\n  Good quality product\\n      36\n",
       "\n",
       "[52225 rows x 3 columns]"
      ]
     },
     "execution_count": 26,
     "metadata": {},
     "output_type": "execute_result"
    }
   ],
   "source": [
    "# creating a lenth columns for Review\n",
    "df['Length']=df['Total_review'].str.len()\n",
    "df"
   ]
  },
  {
   "cell_type": "markdown",
   "id": "4024b597",
   "metadata": {},
   "source": [
    "I have created new column \"Length\" which contains the length of the Review text.\n",
    "\n",
    "The string library contains punctuation characters. This is imported and all numbers are appended to this string. From the value count functions we have seen that our Review feature contains strings such as won't, didn't, etc which contain apostrophe character('). To prevent these words from being converted to wont/didnt, the character ' represented as ' in escape sequence notation is replaced by empty character in the punctuation string."
   ]
  },
  {
   "cell_type": "code",
   "execution_count": 27,
   "id": "4855defb",
   "metadata": {},
   "outputs": [],
   "source": [
    "# Defining a function to replace some of the contracted words to their full form and removing urls and some unwanted text \n",
    "def decontracted(text):\n",
    "    text = re.sub(r\"won't\", \"will not\", text)\n",
    "    text = re.sub(r\"don’t\", \"do not\", text)\n",
    "    text = re.sub(r\"can't\", \"can not\", text)\n",
    "    text = re.sub(r\"im \", \"i am\", text)\n",
    "    text = re.sub(r\"yo \", \"you \",text)\n",
    "    text = re.sub(r\"doesn’t\", \"does not\",text)\n",
    "    text = re.sub(r\"n\\'t\", \" not\", text)\n",
    "    text = re.sub(r\"\\'re\", \" are\", text)\n",
    "    text = re.sub(r\"\\'s\", \" is\", text)\n",
    "    text = re.sub(r\"\\'d\", \" would\", text)\n",
    "    text = re.sub(r\"\\'ll\", \" will\", text)\n",
    "    text = re.sub(r\"\\'t\", \" not\", text)\n",
    "    text = re.sub(r\"\\'ve\", \" have\", text)\n",
    "    text = re.sub(r\"\\'m\", \" am\", text)\n",
    "    text = re.sub(r\"\", \" \", text)\n",
    "    text = re.sub(r'http\\S+', '', text) # Removing urls\n",
    "    return text"
   ]
  },
  {
   "cell_type": "code",
   "execution_count": 28,
   "id": "1f11010f",
   "metadata": {},
   "outputs": [],
   "source": [
    "# Removing punctuations\n",
    "df['Total_review'] = df['Total_review'].str.replace(r'[^\\w\\d\\s]', ' ')"
   ]
  },
  {
   "cell_type": "markdown",
   "id": "0b66043c",
   "metadata": {},
   "source": [
    "Converting all our text into the lower case is a simple and most effective approach. If we are not applying lower case conversion on words like NLP, nlp, Nlp, we are treating all these words as different words/tokens. It is better to perform lower case the text as the first step in this text preprocessing. Because if we are trying to remove stop words all words need to be in lower case."
   ]
  },
  {
   "cell_type": "code",
   "execution_count": 29,
   "id": "acace590",
   "metadata": {},
   "outputs": [
    {
     "data": {
      "text/html": [
       "<div>\n",
       "<style scoped>\n",
       "    .dataframe tbody tr th:only-of-type {\n",
       "        vertical-align: middle;\n",
       "    }\n",
       "\n",
       "    .dataframe tbody tr th {\n",
       "        vertical-align: top;\n",
       "    }\n",
       "\n",
       "    .dataframe thead th {\n",
       "        text-align: right;\n",
       "    }\n",
       "</style>\n",
       "<table border=\"1\" class=\"dataframe\">\n",
       "  <thead>\n",
       "    <tr style=\"text-align: right;\">\n",
       "      <th></th>\n",
       "      <th>Ratings</th>\n",
       "      <th>Total_review</th>\n",
       "      <th>Length</th>\n",
       "    </tr>\n",
       "  </thead>\n",
       "  <tbody>\n",
       "    <tr>\n",
       "      <th>0</th>\n",
       "      <td>2</td>\n",
       "      <td>Not suitable for work\\n  It took me one month ...</td>\n",
       "      <td>409</td>\n",
       "    </tr>\n",
       "    <tr>\n",
       "      <th>1</th>\n",
       "      <td>2</td>\n",
       "      <td>Not worth for what you pay\\n  You can buy the ...</td>\n",
       "      <td>440</td>\n",
       "    </tr>\n",
       "    <tr>\n",
       "      <th>2</th>\n",
       "      <td>2</td>\n",
       "      <td>Good Product\\n  Overall Product    upgraded wi...</td>\n",
       "      <td>105</td>\n",
       "    </tr>\n",
       "    <tr>\n",
       "      <th>3</th>\n",
       "      <td>2</td>\n",
       "      <td>Not advised\\n  Theres a scratch already in the...</td>\n",
       "      <td>146</td>\n",
       "    </tr>\n",
       "    <tr>\n",
       "      <th>4</th>\n",
       "      <td>2</td>\n",
       "      <td>The laptop hangs  sometimes gets stuck and it ...</td>\n",
       "      <td>370</td>\n",
       "    </tr>\n",
       "    <tr>\n",
       "      <th>...</th>\n",
       "      <td>...</td>\n",
       "      <td>...</td>\n",
       "      <td>...</td>\n",
       "    </tr>\n",
       "    <tr>\n",
       "      <th>52220</th>\n",
       "      <td>4</td>\n",
       "      <td>Paisa wasool product\\n  Full paisa wasool  pro...</td>\n",
       "      <td>52</td>\n",
       "    </tr>\n",
       "    <tr>\n",
       "      <th>52221</th>\n",
       "      <td>4</td>\n",
       "      <td>Good product for this price range go for it\\n ...</td>\n",
       "      <td>59</td>\n",
       "    </tr>\n",
       "    <tr>\n",
       "      <th>52222</th>\n",
       "      <td>4</td>\n",
       "      <td>Super\\n  Super\\n</td>\n",
       "      <td>14</td>\n",
       "    </tr>\n",
       "    <tr>\n",
       "      <th>52223</th>\n",
       "      <td>4</td>\n",
       "      <td>LG true gaming Monitor\\n  Great Product by LG\\n</td>\n",
       "      <td>45</td>\n",
       "    </tr>\n",
       "    <tr>\n",
       "      <th>52224</th>\n",
       "      <td>4</td>\n",
       "      <td>Good product\\n  Good quality product\\n</td>\n",
       "      <td>36</td>\n",
       "    </tr>\n",
       "  </tbody>\n",
       "</table>\n",
       "<p>52225 rows × 3 columns</p>\n",
       "</div>"
      ],
      "text/plain": [
       "       Ratings                                       Total_review  Length\n",
       "0            2  Not suitable for work\\n  It took me one month ...     409\n",
       "1            2  Not worth for what you pay\\n  You can buy the ...     440\n",
       "2            2  Good Product\\n  Overall Product    upgraded wi...     105\n",
       "3            2  Not advised\\n  Theres a scratch already in the...     146\n",
       "4            2  The laptop hangs  sometimes gets stuck and it ...     370\n",
       "...        ...                                                ...     ...\n",
       "52220        4  Paisa wasool product\\n  Full paisa wasool  pro...      52\n",
       "52221        4  Good product for this price range go for it\\n ...      59\n",
       "52222        4                                   Super\\n  Super\\n      14\n",
       "52223        4    LG true gaming Monitor\\n  Great Product by LG\\n      45\n",
       "52224        4             Good product\\n  Good quality product\\n      36\n",
       "\n",
       "[52225 rows x 3 columns]"
      ]
     },
     "execution_count": 29,
     "metadata": {},
     "output_type": "execute_result"
    }
   ],
   "source": [
    "df"
   ]
  },
  {
   "cell_type": "code",
   "execution_count": 30,
   "id": "bf5f3cbc",
   "metadata": {},
   "outputs": [],
   "source": [
    "# Convert all comment texts to lower case in dataset\n",
    "df['Total_review'] = df['Total_review'].apply(lambda x : x.lower())\n",
    "\n",
    "df['Total_review'] = df['Total_review'].apply(lambda x : decontracted(x))"
   ]
  },
  {
   "cell_type": "code",
   "execution_count": 31,
   "id": "40f19763",
   "metadata": {},
   "outputs": [],
   "source": [
    "# Replacing '\\n' in Review\n",
    "df['Total_review'] = df['Total_review'].replace('\\n',' ')"
   ]
  },
  {
   "cell_type": "markdown",
   "id": "03b7e014",
   "metadata": {},
   "source": [
    "# Removing Stopwords\n",
    "Stopwords are common words and irrelevant words from which we can't get any useful information for our model or problem statement.\n",
    "\n",
    "Few stopwords are \"a\", \"an\", \"the\", etc. Single letter words if existing or created due to any preprocessing step do not convey any useful meaning and hence can be directly removed. Hence letters from b to z, will be added to the list of stop words imported directly."
   ]
  },
  {
   "cell_type": "code",
   "execution_count": 32,
   "id": "386cf899",
   "metadata": {},
   "outputs": [],
   "source": [
    "# Remove stopwords\n",
    "stop_words = set(stopwords.words('english') + ['u','ü','ur','4','2','im','dont','doin','ure'])\n",
    "\n",
    "df[\"Total_review\"] = df[\"Total_review\"].apply(lambda x:' '.join(term for term in x.split() if term not in stop_words))"
   ]
  },
  {
   "cell_type": "markdown",
   "id": "7f0fc0e0",
   "metadata": {},
   "source": [
    "# Stemming and Lemmatization\n",
    "1. Stemming is the process of converting inflected/derived words to their word stem or the root form. Basically, a large number of similar origin words are converted to the same word.E.g. words like \"stems\", \"stemmer\", \"stemming\", \"stemmed\" as based on \"stem\". This helps in achieving the training process with a better accuracy.\n",
    "2. Lemmatizing is the process of grouping together the inflected forms of a word so they can be analysed as a single item. This is quite similar to stemming in its working but differs since it depends on correctly identifying the intended part of speech and meaning of a word in a sentence, as well as within the larger context surrounding that sentence, such as neighboring sentences or even an entire document."
   ]
  },
  {
   "cell_type": "code",
   "execution_count": 33,
   "id": "61d48dc8",
   "metadata": {},
   "outputs": [],
   "source": [
    "# Defining function to convert nltk tag to wordnet tags\n",
    "def nltk_tag_to_wordnet_tag(nltk_tag):\n",
    "    if nltk_tag.startswith('J'):\n",
    "        return wordnet.ADJ\n",
    "    elif nltk_tag.startswith('V'):\n",
    "        return wordnet.VERB\n",
    "    elif nltk_tag.startswith('N'):\n",
    "        return wordnet.NOUN\n",
    "    elif nltk_tag.startswith('R'):\n",
    "        return wordnet.ADV\n",
    "    else:\n",
    "        return None"
   ]
  },
  {
   "cell_type": "code",
   "execution_count": 34,
   "id": "64d0a828",
   "metadata": {},
   "outputs": [],
   "source": [
    "lemmatizer = nltk.stem.WordNetLemmatizer()"
   ]
  },
  {
   "cell_type": "code",
   "execution_count": 35,
   "id": "9fcde494",
   "metadata": {},
   "outputs": [],
   "source": [
    "#defining function to lemmatize our text\n",
    "def lemmatize_sentence(sentence):\n",
    "    #tokenize the sentence & find the pos tag\n",
    "    nltk_tagged = nltk.pos_tag(nltk.word_tokenize(sentence))\n",
    "    #tuple of (token, wordnet_tag)\n",
    "    wordnet_tagged = map(lambda x : (x[0], nltk_tag_to_wordnet_tag(x[1])), nltk_tagged)\n",
    "    lemmatize_sentence = []\n",
    "    for word, tag in wordnet_tagged:\n",
    "        if tag is None:\n",
    "            lemmatize_sentence.append(word)\n",
    "        else:\n",
    "            lemmatize_sentence.append(lemmatizer.lemmatize(word,tag))\n",
    "    return \" \".join(lemmatize_sentence)"
   ]
  },
  {
   "cell_type": "code",
   "execution_count": 36,
   "id": "8a473825",
   "metadata": {},
   "outputs": [],
   "source": [
    "df['Total_review'] = df['Total_review'].apply(lambda x : lemmatize_sentence(x))"
   ]
  },
  {
   "cell_type": "markdown",
   "id": "b5d9b1e8",
   "metadata": {},
   "source": [
    "# Text Normalization-Standardization"
   ]
  },
  {
   "cell_type": "code",
   "execution_count": 37,
   "id": "410a9493",
   "metadata": {},
   "outputs": [],
   "source": [
    "# Removing noise data from the text\n",
    "def noise_words(text):\n",
    "    # Remove html markup\n",
    "    text = re.sub(\"(<.*?>)\", \"\", text)\n",
    "    # Remove non-ASCII and digits\n",
    "    text = re.sub(\"(\\\\W)\", \" \", text)\n",
    "    text = re.sub(\"(\\\\d)\", \"\", text)\n",
    "    # Remove white space\n",
    "    text = text.strip()\n",
    "    return text"
   ]
  },
  {
   "cell_type": "code",
   "execution_count": 38,
   "id": "1350e41e",
   "metadata": {},
   "outputs": [],
   "source": [
    "df['Total_review'] = df['Total_review'].apply(lambda x : noise_words(x))"
   ]
  },
  {
   "cell_type": "markdown",
   "id": "4ee309ed",
   "metadata": {},
   "source": [
    "I have defined a function noise_words for removing the noise from the text. It will remove any html markups, digits,urls and white spaces from the text. Let's have a look at first two rows of the text from review column to understand it."
   ]
  },
  {
   "cell_type": "code",
   "execution_count": 39,
   "id": "15deb0a9",
   "metadata": {},
   "outputs": [
    {
     "data": {
      "text/plain": [
       "'n b l e f r w r k k e n e n h g e l p p w r k n g r e q r e e n h e l p p c e w h n l e n n h e f f c e l k n h e r p p n e e e f r b n e b e b g h n e x p e n v e e c n l n n l e n v h p h e l p c n f g r e h e l p p e v e r n e n n r n e r v c e f w r r n l p p n l h g e r w b c k w h h c h e n e l l n e'"
      ]
     },
     "execution_count": 39,
     "metadata": {},
     "output_type": "execute_result"
    }
   ],
   "source": [
    "df['Total_review'][0]"
   ]
  },
  {
   "cell_type": "code",
   "execution_count": 40,
   "id": "f2df922a",
   "metadata": {},
   "outputs": [
    {
     "data": {
      "text/plain": [
       "'n w r h f r w h p c n b h e e f r b e e r p r c e r e c l n l e n v e h n h e r e w e n n e l e e e l b l e r r e l e h e p r c e c h e p e r n l e n v e n c l q b r n l e n v h e   e l f e p e c f c n c h c h e p e r b r w h  p c e r h e v e q l v e r p r n e x p e c c h h n g f r z n w h e r e e n n e l e e e l n p r c e l l c p r v e l h g h e r'"
      ]
     },
     "execution_count": 40,
     "metadata": {},
     "output_type": "execute_result"
    }
   ],
   "source": [
    "df['Total_review'][1]"
   ]
  },
  {
   "cell_type": "markdown",
   "id": "4e930ceb",
   "metadata": {},
   "source": [
    "# Count of words in the text"
   ]
  },
  {
   "cell_type": "code",
   "execution_count": 41,
   "id": "f8c834f9",
   "metadata": {},
   "outputs": [
    {
     "data": {
      "text/html": [
       "<div>\n",
       "<style scoped>\n",
       "    .dataframe tbody tr th:only-of-type {\n",
       "        vertical-align: middle;\n",
       "    }\n",
       "\n",
       "    .dataframe tbody tr th {\n",
       "        vertical-align: top;\n",
       "    }\n",
       "\n",
       "    .dataframe thead th {\n",
       "        text-align: right;\n",
       "    }\n",
       "</style>\n",
       "<table border=\"1\" class=\"dataframe\">\n",
       "  <thead>\n",
       "    <tr style=\"text-align: right;\">\n",
       "      <th></th>\n",
       "      <th>Review_word_count</th>\n",
       "      <th>Total_review</th>\n",
       "    </tr>\n",
       "  </thead>\n",
       "  <tbody>\n",
       "    <tr>\n",
       "      <th>0</th>\n",
       "      <td>154</td>\n",
       "      <td>n b l e f r w r k k e n e n h g e l p p w r k ...</td>\n",
       "    </tr>\n",
       "    <tr>\n",
       "      <th>1</th>\n",
       "      <td>177</td>\n",
       "      <td>n w r h f r w h p c n b h e e f r b e e r p r ...</td>\n",
       "    </tr>\n",
       "    <tr>\n",
       "      <th>2</th>\n",
       "      <td>45</td>\n",
       "      <td>g p r c v e r l l p r c p g r e w n w   n f c ...</td>\n",
       "    </tr>\n",
       "    <tr>\n",
       "      <th>3</th>\n",
       "      <td>60</td>\n",
       "      <td>n v e h e r e c r c h l r e n h e c r e e n n ...</td>\n",
       "    </tr>\n",
       "    <tr>\n",
       "      <th>4</th>\n",
       "      <td>116</td>\n",
       "      <td>h e l p p h n g e e g e c k n n r e p n n g e ...</td>\n",
       "    </tr>\n",
       "  </tbody>\n",
       "</table>\n",
       "</div>"
      ],
      "text/plain": [
       "   Review_word_count                                       Total_review\n",
       "0                154  n b l e f r w r k k e n e n h g e l p p w r k ...\n",
       "1                177  n w r h f r w h p c n b h e e f r b e e r p r ...\n",
       "2                 45  g p r c v e r l l p r c p g r e w n w   n f c ...\n",
       "3                 60  n v e h e r e c r c h l r e n h e c r e e n n ...\n",
       "4                116  h e l p p h n g e e g e c k n n r e p n n g e ..."
      ]
     },
     "execution_count": 41,
     "metadata": {},
     "output_type": "execute_result"
    }
   ],
   "source": [
    "# Creating column for word counts in the text\n",
    "df['Review_word_count'] = df['Total_review'].apply(lambda x: len(str(x).split(' ')))\n",
    "df[['Review_word_count','Total_review']].head()"
   ]
  },
  {
   "cell_type": "code",
   "execution_count": 42,
   "id": "e0310dc4",
   "metadata": {},
   "outputs": [
    {
     "data": {
      "text/html": [
       "<div>\n",
       "<style scoped>\n",
       "    .dataframe tbody tr th:only-of-type {\n",
       "        vertical-align: middle;\n",
       "    }\n",
       "\n",
       "    .dataframe tbody tr th {\n",
       "        vertical-align: top;\n",
       "    }\n",
       "\n",
       "    .dataframe thead th {\n",
       "        text-align: right;\n",
       "    }\n",
       "</style>\n",
       "<table border=\"1\" class=\"dataframe\">\n",
       "  <thead>\n",
       "    <tr style=\"text-align: right;\">\n",
       "      <th></th>\n",
       "      <th>Ratings</th>\n",
       "      <th>Total_review</th>\n",
       "      <th>Length</th>\n",
       "      <th>Review_word_count</th>\n",
       "      <th>clean_length</th>\n",
       "    </tr>\n",
       "  </thead>\n",
       "  <tbody>\n",
       "    <tr>\n",
       "      <th>0</th>\n",
       "      <td>2</td>\n",
       "      <td>n b l e f r w r k k e n e n h g e l p p w r k ...</td>\n",
       "      <td>409</td>\n",
       "      <td>154</td>\n",
       "      <td>307</td>\n",
       "    </tr>\n",
       "    <tr>\n",
       "      <th>1</th>\n",
       "      <td>2</td>\n",
       "      <td>n w r h f r w h p c n b h e e f r b e e r p r ...</td>\n",
       "      <td>440</td>\n",
       "      <td>177</td>\n",
       "      <td>350</td>\n",
       "    </tr>\n",
       "    <tr>\n",
       "      <th>2</th>\n",
       "      <td>2</td>\n",
       "      <td>g p r c v e r l l p r c p g r e w n w   n f c ...</td>\n",
       "      <td>105</td>\n",
       "      <td>45</td>\n",
       "      <td>87</td>\n",
       "    </tr>\n",
       "    <tr>\n",
       "      <th>3</th>\n",
       "      <td>2</td>\n",
       "      <td>n v e h e r e c r c h l r e n h e c r e e n n ...</td>\n",
       "      <td>146</td>\n",
       "      <td>60</td>\n",
       "      <td>119</td>\n",
       "    </tr>\n",
       "    <tr>\n",
       "      <th>4</th>\n",
       "      <td>2</td>\n",
       "      <td>h e l p p h n g e e g e c k n n r e p n n g e ...</td>\n",
       "      <td>370</td>\n",
       "      <td>116</td>\n",
       "      <td>231</td>\n",
       "    </tr>\n",
       "    <tr>\n",
       "      <th>...</th>\n",
       "      <td>...</td>\n",
       "      <td>...</td>\n",
       "      <td>...</td>\n",
       "      <td>...</td>\n",
       "      <td>...</td>\n",
       "    </tr>\n",
       "    <tr>\n",
       "      <th>52220</th>\n",
       "      <td>4</td>\n",
       "      <td>p w l p r c f l l p w l p r c</td>\n",
       "      <td>52</td>\n",
       "      <td>15</td>\n",
       "      <td>29</td>\n",
       "    </tr>\n",
       "    <tr>\n",
       "      <th>52221</th>\n",
       "      <td>4</td>\n",
       "      <td>g p r c f r h p r c e r n g e g f r g p r c</td>\n",
       "      <td>59</td>\n",
       "      <td>22</td>\n",
       "      <td>43</td>\n",
       "    </tr>\n",
       "    <tr>\n",
       "      <th>52222</th>\n",
       "      <td>4</td>\n",
       "      <td>p e r p e r</td>\n",
       "      <td>14</td>\n",
       "      <td>6</td>\n",
       "      <td>11</td>\n",
       "    </tr>\n",
       "    <tr>\n",
       "      <th>52223</th>\n",
       "      <td>4</td>\n",
       "      <td>l g r e g n g n r g r e p r c b l g</td>\n",
       "      <td>45</td>\n",
       "      <td>18</td>\n",
       "      <td>35</td>\n",
       "    </tr>\n",
       "    <tr>\n",
       "      <th>52224</th>\n",
       "      <td>4</td>\n",
       "      <td>g p r c g q l p r c</td>\n",
       "      <td>36</td>\n",
       "      <td>10</td>\n",
       "      <td>19</td>\n",
       "    </tr>\n",
       "  </tbody>\n",
       "</table>\n",
       "<p>52225 rows × 5 columns</p>\n",
       "</div>"
      ],
      "text/plain": [
       "       Ratings                                       Total_review  Length  \\\n",
       "0            2  n b l e f r w r k k e n e n h g e l p p w r k ...     409   \n",
       "1            2  n w r h f r w h p c n b h e e f r b e e r p r ...     440   \n",
       "2            2  g p r c v e r l l p r c p g r e w n w   n f c ...     105   \n",
       "3            2  n v e h e r e c r c h l r e n h e c r e e n n ...     146   \n",
       "4            2  h e l p p h n g e e g e c k n n r e p n n g e ...     370   \n",
       "...        ...                                                ...     ...   \n",
       "52220        4                      p w l p r c f l l p w l p r c      52   \n",
       "52221        4        g p r c f r h p r c e r n g e g f r g p r c      59   \n",
       "52222        4                                        p e r p e r      14   \n",
       "52223        4                l g r e g n g n r g r e p r c b l g      45   \n",
       "52224        4                                g p r c g q l p r c      36   \n",
       "\n",
       "       Review_word_count  clean_length  \n",
       "0                    154           307  \n",
       "1                    177           350  \n",
       "2                     45            87  \n",
       "3                     60           119  \n",
       "4                    116           231  \n",
       "...                  ...           ...  \n",
       "52220                 15            29  \n",
       "52221                 22            43  \n",
       "52222                  6            11  \n",
       "52223                 18            35  \n",
       "52224                 10            19  \n",
       "\n",
       "[52225 rows x 5 columns]"
      ]
     },
     "execution_count": 42,
     "metadata": {},
     "output_type": "execute_result"
    }
   ],
   "source": [
    "# New column (clean_length) after removing punctuations, stopwords in dataset\n",
    "df['clean_length'] =df.Total_review.str.len()\n",
    "df"
   ]
  },
  {
   "cell_type": "markdown",
   "id": "82514466",
   "metadata": {},
   "source": [
    "I have created new column \"clean_length\" in dataset after cleaning the data. We can see that nearly half of the text has been removed from the Review after using required pre-processing."
   ]
  },
  {
   "cell_type": "code",
   "execution_count": 43,
   "id": "7c3898a1",
   "metadata": {},
   "outputs": [
    {
     "name": "stdout",
     "output_type": "stream",
     "text": [
      "Original Length: 14951382\n",
      "Clean Length: 11437699\n",
      "Total Words Removed: 3513683\n"
     ]
    }
   ],
   "source": [
    "# Total length removal in data\n",
    "print('Original Length:',df.Length.sum())\n",
    "print('Clean Length:',df.clean_length.sum())\n",
    "print(\"Total Words Removed:\", (df.Length.sum()) - (df.clean_length.sum()))"
   ]
  },
  {
   "cell_type": "code",
   "execution_count": 44,
   "id": "958b9158",
   "metadata": {},
   "outputs": [
    {
     "data": {
      "text/html": [
       "<div>\n",
       "<style scoped>\n",
       "    .dataframe tbody tr th:only-of-type {\n",
       "        vertical-align: middle;\n",
       "    }\n",
       "\n",
       "    .dataframe tbody tr th {\n",
       "        vertical-align: top;\n",
       "    }\n",
       "\n",
       "    .dataframe thead th {\n",
       "        text-align: right;\n",
       "    }\n",
       "</style>\n",
       "<table border=\"1\" class=\"dataframe\">\n",
       "  <thead>\n",
       "    <tr style=\"text-align: right;\">\n",
       "      <th></th>\n",
       "      <th>Ratings</th>\n",
       "      <th>Length</th>\n",
       "      <th>Review_word_count</th>\n",
       "      <th>clean_length</th>\n",
       "    </tr>\n",
       "  </thead>\n",
       "  <tbody>\n",
       "    <tr>\n",
       "      <th>count</th>\n",
       "      <td>52225.000000</td>\n",
       "      <td>52225.000000</td>\n",
       "      <td>52225.000000</td>\n",
       "      <td>52225.000000</td>\n",
       "    </tr>\n",
       "    <tr>\n",
       "      <th>mean</th>\n",
       "      <td>3.413863</td>\n",
       "      <td>286.287831</td>\n",
       "      <td>111.026482</td>\n",
       "      <td>219.008119</td>\n",
       "    </tr>\n",
       "    <tr>\n",
       "      <th>std</th>\n",
       "      <td>1.522482</td>\n",
       "      <td>356.235362</td>\n",
       "      <td>141.397490</td>\n",
       "      <td>279.080176</td>\n",
       "    </tr>\n",
       "    <tr>\n",
       "      <th>min</th>\n",
       "      <td>1.000000</td>\n",
       "      <td>6.000000</td>\n",
       "      <td>1.000000</td>\n",
       "      <td>0.000000</td>\n",
       "    </tr>\n",
       "    <tr>\n",
       "      <th>25%</th>\n",
       "      <td>2.000000</td>\n",
       "      <td>58.000000</td>\n",
       "      <td>22.000000</td>\n",
       "      <td>43.000000</td>\n",
       "    </tr>\n",
       "    <tr>\n",
       "      <th>50%</th>\n",
       "      <td>4.000000</td>\n",
       "      <td>202.000000</td>\n",
       "      <td>78.000000</td>\n",
       "      <td>153.000000</td>\n",
       "    </tr>\n",
       "    <tr>\n",
       "      <th>75%</th>\n",
       "      <td>5.000000</td>\n",
       "      <td>387.000000</td>\n",
       "      <td>151.000000</td>\n",
       "      <td>298.000000</td>\n",
       "    </tr>\n",
       "    <tr>\n",
       "      <th>max</th>\n",
       "      <td>5.000000</td>\n",
       "      <td>12753.000000</td>\n",
       "      <td>5225.000000</td>\n",
       "      <td>9822.000000</td>\n",
       "    </tr>\n",
       "  </tbody>\n",
       "</table>\n",
       "</div>"
      ],
      "text/plain": [
       "            Ratings        Length  Review_word_count  clean_length\n",
       "count  52225.000000  52225.000000       52225.000000  52225.000000\n",
       "mean       3.413863    286.287831         111.026482    219.008119\n",
       "std        1.522482    356.235362         141.397490    279.080176\n",
       "min        1.000000      6.000000           1.000000      0.000000\n",
       "25%        2.000000     58.000000          22.000000     43.000000\n",
       "50%        4.000000    202.000000          78.000000    153.000000\n",
       "75%        5.000000    387.000000         151.000000    298.000000\n",
       "max        5.000000  12753.000000        5225.000000   9822.000000"
      ]
     },
     "execution_count": 44,
     "metadata": {},
     "output_type": "execute_result"
    }
   ],
   "source": [
    "# Statistical summary of dataset\n",
    "df.describe()"
   ]
  },
  {
   "cell_type": "markdown",
   "id": "4bf45f7b",
   "metadata": {},
   "source": [
    "This gives the statistical information of the dataset. The summary of this dataset looks perfect since there is no negative/ invalid values present. It gives the summary of numerical data.\n",
    "\n",
    "From the above description we can observe the following things\n",
    "\n",
    "The counts of every column is same which means there are no missing values present in the dataset.\n",
    "The mean value is greater than the median in all the columns except the target column Ratings. So, the data in these columns are skewed to right and in target it is skewed to left.\n",
    "There is a huge difference between 75% percentile and max values so, we can say there are some outliers present in the data. Since Review_length Review_word_count and clean_length columns are continuous numerical columns, we need to remove skewness and outliers in these columns except target column."
   ]
  },
  {
   "cell_type": "code",
   "execution_count": 45,
   "id": "789d603c",
   "metadata": {},
   "outputs": [
    {
     "data": {
      "image/png": "[encoded data removed]",
      "text/plain": [
       "<Figure size 800x600 with 2 Axes>"
      ]
     },
     "metadata": {},
     "output_type": "display_data"
    }
   ],
   "source": [
    "# Visualizing the statistical description of numeric datatype columns\n",
    "\n",
    "plt.figure(figsize = (8,6))\n",
    "sns.heatmap(round(df.describe(),2), linewidth = 2, annot= True, fmt = \".2f\", cmap=\"plasma\")\n",
    "plt.title(\"Satistical Description of Numerical Columns\\n\",fontsize=15)\n",
    "\n",
    "plt.show()"
   ]
  },
  {
   "cell_type": "markdown",
   "id": "5a2ff7a6",
   "metadata": {},
   "source": [
    "# Visualizations"
   ]
  },
  {
   "cell_type": "code",
   "execution_count": 46,
   "id": "c5caeef6",
   "metadata": {},
   "outputs": [
    {
     "name": "stdout",
     "output_type": "stream",
     "text": [
      "5    19099\n",
      "1     9399\n",
      "4     9110\n",
      "3     7721\n",
      "2     6896\n",
      "Name: Ratings, dtype: int64\n"
     ]
    },
    {
     "data": {
      "image/png": "[encoded data removed]",
      "text/plain": [
       "<Figure size 1500x500 with 2 Axes>"
      ]
     },
     "metadata": {},
     "output_type": "display_data"
    }
   ],
   "source": [
    "# Visualizing the target variable\n",
    "print(df['Ratings'].value_counts())\n",
    "f,ax=plt.subplots(1,2,figsize=(15,5))\n",
    "labels = ['5', '4', '1', '3', '2']\n",
    "colors = [\"green\", \"cyan\", \"m\", \"lime\", \"yellow\"]\n",
    "df['Ratings'].value_counts().plot.pie(autopct='%1.1f%%',ax=ax[0],shadow=True,labels=labels,fontsize=10,colors=colors,\n",
    "                                              wedgeprops = {'linewidth':2.3, 'edgecolor':'k'},\n",
    "                                              title = 'Visualizing the count of Ratings')\n",
    "ax = sns.countplot('Ratings', data=df, ax=ax[1],palette=\"bright\",linewidth=2.3, edgecolor=\".2\")\n",
    "plt.show()"
   ]
  },
  {
   "cell_type": "markdown",
   "id": "f9eb2784",
   "metadata": {},
   "source": [
    "1. Looking at the above pie chart and count plot for our target variable \"Ratings\" we can say that the dataset contains the more review text rated as 5 star compared to other review ratings and very less reviews rated as 2 compared to others.\n",
    "2. Around 44% of the texts are rated as 5 and only 10% of the texts rated as 2 stars.\n",
    "So, we can say that there is \"imbalance problem\" which we need to make it balance to build our model."
   ]
  },
  {
   "cell_type": "code",
   "execution_count": 47,
   "id": "1c5f72bb",
   "metadata": {},
   "outputs": [
    {
     "data": {
      "image/png": "[encoded data removed]",
      "text/plain": [
       "<Figure size 1500x800 with 4 Axes>"
      ]
     },
     "metadata": {},
     "output_type": "display_data"
    }
   ],
   "source": [
    "# Checking how the data has been distriubted in each column using histogram and density plots\n",
    "col = [\"Ratings\",\"Length\",\"Review_word_count\",\"clean_length\"]\n",
    "plt.figure(figsize=(15,8),facecolor='white')\n",
    "plotnumber=1\n",
    "for column in col:\n",
    "    if plotnumber<=4:\n",
    "        ax=plt.subplot(2,2,plotnumber)\n",
    "        sns.distplot(df[column],color=\"maroon\",hist=True, kde = True,bins = int(180/5),hist_kws = {'edgecolor':'black'},\n",
    "            kde_kws = {'linewidth':4})\n",
    "        plt.xlabel(column,fontsize=12)\n",
    "    plotnumber+=1\n",
    "plt.tight_layout()"
   ]
  },
  {
   "cell_type": "markdown",
   "id": "338d6e6c",
   "metadata": {},
   "source": [
    "1. From the dist plot we can notice that data in all the columns are skewed to right except the target column. Which means the mean value is greater than the median in these columns.\n",
    "2. From the histogram of Review_word_count we can clearly observe that most of our text is having the number of words in the range of 0 to 200, and some of the text are too lengthy which are out of range which acts as outliers in our data.\n",
    "3. Also, the plot of clean_length also quite similar to the histogram of Review_word_count.\n",
    "4. Since there is skewness in the data we need to remove it before building the machine learning models."
   ]
  },
  {
   "cell_type": "markdown",
   "id": "80047aff",
   "metadata": {},
   "source": [
    "# Check outliers"
   ]
  },
  {
   "cell_type": "code",
   "execution_count": 48,
   "id": "9168c788",
   "metadata": {},
   "outputs": [
    {
     "data": {
      "image/png": "[encoded data removed]",
      "text/plain": [
       "<Figure size 800x600 with 4 Axes>"
      ]
     },
     "metadata": {},
     "output_type": "display_data"
    }
   ],
   "source": [
    "# Checking how the data has been distriubted in each column using histogram and density plots\n",
    "col = [\"Ratings\",\"Length\",\"Review_word_count\",\"clean_length\"]\n",
    "plt.figure(figsize=(8,6),facecolor='white')\n",
    "plotnumber=1\n",
    "for column in col:\n",
    "    if plotnumber<=4:\n",
    "        ax=plt.subplot(2,2,plotnumber)\n",
    "        sns.boxplot(df[column],color=\"darkorange\")\n",
    "        plt.xlabel(column,fontsize=12)\n",
    "    plotnumber+=1\n",
    "plt.tight_layout()"
   ]
  },
  {
   "cell_type": "markdown",
   "id": "47947bfd",
   "metadata": {},
   "source": [
    "# Removing outliers"
   ]
  },
  {
   "cell_type": "code",
   "execution_count": 49,
   "id": "3bdebe66",
   "metadata": {},
   "outputs": [
    {
     "data": {
      "text/plain": [
       "Ratings               int32\n",
       "Total_review         object\n",
       "Length                int64\n",
       "Review_word_count     int64\n",
       "clean_length          int64\n",
       "dtype: object"
      ]
     },
     "execution_count": 49,
     "metadata": {},
     "output_type": "execute_result"
    }
   ],
   "source": [
    "df.dtypes"
   ]
  },
  {
   "cell_type": "markdown",
   "id": "f0ab318e",
   "metadata": {},
   "source": [
    "### Zscore method"
   ]
  },
  {
   "cell_type": "code",
   "execution_count": 50,
   "id": "b15e2b36",
   "metadata": {},
   "outputs": [
    {
     "data": {
      "text/html": [
       "<div>\n",
       "<style scoped>\n",
       "    .dataframe tbody tr th:only-of-type {\n",
       "        vertical-align: middle;\n",
       "    }\n",
       "\n",
       "    .dataframe tbody tr th {\n",
       "        vertical-align: top;\n",
       "    }\n",
       "\n",
       "    .dataframe thead th {\n",
       "        text-align: right;\n",
       "    }\n",
       "</style>\n",
       "<table border=\"1\" class=\"dataframe\">\n",
       "  <thead>\n",
       "    <tr style=\"text-align: right;\">\n",
       "      <th></th>\n",
       "      <th>Length</th>\n",
       "      <th>Review_word_count</th>\n",
       "      <th>clean_length</th>\n",
       "    </tr>\n",
       "  </thead>\n",
       "  <tbody>\n",
       "    <tr>\n",
       "      <th>0</th>\n",
       "      <td>0.344473</td>\n",
       "      <td>0.303923</td>\n",
       "      <td>0.315296</td>\n",
       "    </tr>\n",
       "    <tr>\n",
       "      <th>1</th>\n",
       "      <td>0.431495</td>\n",
       "      <td>0.466586</td>\n",
       "      <td>0.469375</td>\n",
       "    </tr>\n",
       "    <tr>\n",
       "      <th>2</th>\n",
       "      <td>0.508904</td>\n",
       "      <td>0.466961</td>\n",
       "      <td>0.473016</td>\n",
       "    </tr>\n",
       "    <tr>\n",
       "      <th>3</th>\n",
       "      <td>0.393810</td>\n",
       "      <td>0.360876</td>\n",
       "      <td>0.358352</td>\n",
       "    </tr>\n",
       "    <tr>\n",
       "      <th>4</th>\n",
       "      <td>0.234993</td>\n",
       "      <td>0.035174</td>\n",
       "      <td>0.042970</td>\n",
       "    </tr>\n",
       "    <tr>\n",
       "      <th>...</th>\n",
       "      <td>...</td>\n",
       "      <td>...</td>\n",
       "      <td>...</td>\n",
       "    </tr>\n",
       "    <tr>\n",
       "      <th>52220</th>\n",
       "      <td>0.657683</td>\n",
       "      <td>0.679131</td>\n",
       "      <td>0.680844</td>\n",
       "    </tr>\n",
       "    <tr>\n",
       "      <th>52221</th>\n",
       "      <td>0.638033</td>\n",
       "      <td>0.629625</td>\n",
       "      <td>0.630678</td>\n",
       "    </tr>\n",
       "    <tr>\n",
       "      <th>52222</th>\n",
       "      <td>0.764355</td>\n",
       "      <td>0.742782</td>\n",
       "      <td>0.745342</td>\n",
       "    </tr>\n",
       "    <tr>\n",
       "      <th>52223</th>\n",
       "      <td>0.677333</td>\n",
       "      <td>0.657914</td>\n",
       "      <td>0.659344</td>\n",
       "    </tr>\n",
       "    <tr>\n",
       "      <th>52224</th>\n",
       "      <td>0.702598</td>\n",
       "      <td>0.714493</td>\n",
       "      <td>0.716676</td>\n",
       "    </tr>\n",
       "  </tbody>\n",
       "</table>\n",
       "<p>52225 rows × 3 columns</p>\n",
       "</div>"
      ],
      "text/plain": [
       "         Length  Review_word_count  clean_length\n",
       "0      0.344473           0.303923      0.315296\n",
       "1      0.431495           0.466586      0.469375\n",
       "2      0.508904           0.466961      0.473016\n",
       "3      0.393810           0.360876      0.358352\n",
       "4      0.234993           0.035174      0.042970\n",
       "...         ...                ...           ...\n",
       "52220  0.657683           0.679131      0.680844\n",
       "52221  0.638033           0.629625      0.630678\n",
       "52222  0.764355           0.742782      0.745342\n",
       "52223  0.677333           0.657914      0.659344\n",
       "52224  0.702598           0.714493      0.716676\n",
       "\n",
       "[52225 rows x 3 columns]"
      ]
     },
     "execution_count": 50,
     "metadata": {},
     "output_type": "execute_result"
    }
   ],
   "source": [
    "# Features containing outliers\n",
    "features = df[['Length', 'Review_word_count', 'clean_length']]\n",
    "               \n",
    "# Using zscore to remove outliers               \n",
    "from scipy.stats import zscore\n",
    "\n",
    "z=np.abs(zscore(features))\n",
    "z"
   ]
  },
  {
   "cell_type": "code",
   "execution_count": 51,
   "id": "04f7baa1",
   "metadata": {},
   "outputs": [
    {
     "data": {
      "text/html": [
       "<div>\n",
       "<style scoped>\n",
       "    .dataframe tbody tr th:only-of-type {\n",
       "        vertical-align: middle;\n",
       "    }\n",
       "\n",
       "    .dataframe tbody tr th {\n",
       "        vertical-align: top;\n",
       "    }\n",
       "\n",
       "    .dataframe thead th {\n",
       "        text-align: right;\n",
       "    }\n",
       "</style>\n",
       "<table border=\"1\" class=\"dataframe\">\n",
       "  <thead>\n",
       "    <tr style=\"text-align: right;\">\n",
       "      <th></th>\n",
       "      <th>Ratings</th>\n",
       "      <th>Total_review</th>\n",
       "      <th>Length</th>\n",
       "      <th>Review_word_count</th>\n",
       "      <th>clean_length</th>\n",
       "    </tr>\n",
       "  </thead>\n",
       "  <tbody>\n",
       "    <tr>\n",
       "      <th>0</th>\n",
       "      <td>2</td>\n",
       "      <td>n b l e f r w r k k e n e n h g e l p p w r k ...</td>\n",
       "      <td>409</td>\n",
       "      <td>154</td>\n",
       "      <td>307</td>\n",
       "    </tr>\n",
       "    <tr>\n",
       "      <th>1</th>\n",
       "      <td>2</td>\n",
       "      <td>n w r h f r w h p c n b h e e f r b e e r p r ...</td>\n",
       "      <td>440</td>\n",
       "      <td>177</td>\n",
       "      <td>350</td>\n",
       "    </tr>\n",
       "    <tr>\n",
       "      <th>2</th>\n",
       "      <td>2</td>\n",
       "      <td>g p r c v e r l l p r c p g r e w n w   n f c ...</td>\n",
       "      <td>105</td>\n",
       "      <td>45</td>\n",
       "      <td>87</td>\n",
       "    </tr>\n",
       "    <tr>\n",
       "      <th>3</th>\n",
       "      <td>2</td>\n",
       "      <td>n v e h e r e c r c h l r e n h e c r e e n n ...</td>\n",
       "      <td>146</td>\n",
       "      <td>60</td>\n",
       "      <td>119</td>\n",
       "    </tr>\n",
       "    <tr>\n",
       "      <th>4</th>\n",
       "      <td>2</td>\n",
       "      <td>h e l p p h n g e e g e c k n n r e p n n g e ...</td>\n",
       "      <td>370</td>\n",
       "      <td>116</td>\n",
       "      <td>231</td>\n",
       "    </tr>\n",
       "    <tr>\n",
       "      <th>...</th>\n",
       "      <td>...</td>\n",
       "      <td>...</td>\n",
       "      <td>...</td>\n",
       "      <td>...</td>\n",
       "      <td>...</td>\n",
       "    </tr>\n",
       "    <tr>\n",
       "      <th>52220</th>\n",
       "      <td>4</td>\n",
       "      <td>p w l p r c f l l p w l p r c</td>\n",
       "      <td>52</td>\n",
       "      <td>15</td>\n",
       "      <td>29</td>\n",
       "    </tr>\n",
       "    <tr>\n",
       "      <th>52221</th>\n",
       "      <td>4</td>\n",
       "      <td>g p r c f r h p r c e r n g e g f r g p r c</td>\n",
       "      <td>59</td>\n",
       "      <td>22</td>\n",
       "      <td>43</td>\n",
       "    </tr>\n",
       "    <tr>\n",
       "      <th>52222</th>\n",
       "      <td>4</td>\n",
       "      <td>p e r p e r</td>\n",
       "      <td>14</td>\n",
       "      <td>6</td>\n",
       "      <td>11</td>\n",
       "    </tr>\n",
       "    <tr>\n",
       "      <th>52223</th>\n",
       "      <td>4</td>\n",
       "      <td>l g r e g n g n r g r e p r c b l g</td>\n",
       "      <td>45</td>\n",
       "      <td>18</td>\n",
       "      <td>35</td>\n",
       "    </tr>\n",
       "    <tr>\n",
       "      <th>52224</th>\n",
       "      <td>4</td>\n",
       "      <td>g p r c g q l p r c</td>\n",
       "      <td>36</td>\n",
       "      <td>10</td>\n",
       "      <td>19</td>\n",
       "    </tr>\n",
       "  </tbody>\n",
       "</table>\n",
       "<p>51369 rows × 5 columns</p>\n",
       "</div>"
      ],
      "text/plain": [
       "       Ratings                                       Total_review  Length  \\\n",
       "0            2  n b l e f r w r k k e n e n h g e l p p w r k ...     409   \n",
       "1            2  n w r h f r w h p c n b h e e f r b e e r p r ...     440   \n",
       "2            2  g p r c v e r l l p r c p g r e w n w   n f c ...     105   \n",
       "3            2  n v e h e r e c r c h l r e n h e c r e e n n ...     146   \n",
       "4            2  h e l p p h n g e e g e c k n n r e p n n g e ...     370   \n",
       "...        ...                                                ...     ...   \n",
       "52220        4                      p w l p r c f l l p w l p r c      52   \n",
       "52221        4        g p r c f r h p r c e r n g e g f r g p r c      59   \n",
       "52222        4                                        p e r p e r      14   \n",
       "52223        4                l g r e g n g n r g r e p r c b l g      45   \n",
       "52224        4                                g p r c g q l p r c      36   \n",
       "\n",
       "       Review_word_count  clean_length  \n",
       "0                    154           307  \n",
       "1                    177           350  \n",
       "2                     45            87  \n",
       "3                     60           119  \n",
       "4                    116           231  \n",
       "...                  ...           ...  \n",
       "52220                 15            29  \n",
       "52221                 22            43  \n",
       "52222                  6            11  \n",
       "52223                 18            35  \n",
       "52224                 10            19  \n",
       "\n",
       "[51369 rows x 5 columns]"
      ]
     },
     "execution_count": 51,
     "metadata": {},
     "output_type": "execute_result"
    }
   ],
   "source": [
    "# Creating new dataframe by setting z to 3\n",
    "new_df = df[(z<3).all(axis=1)] \n",
    "new_df"
   ]
  },
  {
   "cell_type": "markdown",
   "id": "8dccad16",
   "metadata": {},
   "source": [
    "This is the new dataframe after removing the outliers. Here we have removed the outliers whose Zscore is less than 3."
   ]
  },
  {
   "cell_type": "code",
   "execution_count": 52,
   "id": "8a0e3e6a",
   "metadata": {},
   "outputs": [
    {
     "name": "stdout",
     "output_type": "stream",
     "text": [
      "Shape of dataset before removing outliers: (52225, 5)\n",
      "Shape of dataset after removing outliers: (51369, 5)\n"
     ]
    }
   ],
   "source": [
    "# Checking the shape of dataset before and after removing outliers\n",
    "print(\"Shape of dataset before removing outliers:\", df.shape)\n",
    "print(\"Shape of dataset after removing outliers:\", new_df.shape)"
   ]
  },
  {
   "cell_type": "code",
   "execution_count": 53,
   "id": "1208592f",
   "metadata": {},
   "outputs": [
    {
     "data": {
      "text/plain": [
       "1.5079898742188118"
      ]
     },
     "execution_count": 53,
     "metadata": {},
     "output_type": "execute_result"
    }
   ],
   "source": [
    "# Checking the the data loss after removing outliers\n",
    "data_loss = (101128-99603)/101128*100\n",
    "data_loss"
   ]
  },
  {
   "cell_type": "markdown",
   "id": "97758b5c",
   "metadata": {},
   "source": [
    "The acceptable range of data loss is 10%. By using Zscore I am losing around 1.58% of data which is acceptable. Let's try to remove outliers using IQR method."
   ]
  },
  {
   "cell_type": "markdown",
   "id": "8e3bc527",
   "metadata": {},
   "source": [
    "# IQR (Inter Quartile Range) method"
   ]
  },
  {
   "cell_type": "code",
   "execution_count": 54,
   "id": "38ce722b",
   "metadata": {},
   "outputs": [],
   "source": [
    "# 1st quantile\n",
    "Q1=features.quantile(0.25)\n",
    "\n",
    "# 3rd quantile\n",
    "Q3=features.quantile(0.75)\n",
    "\n",
    "# IQR\n",
    "IQR=Q3 - Q1\n",
    "\n",
    "df1=df[((df < (Q1 - 1.5 * IQR)) |(df > (Q3 + 1.5 * IQR))).any(axis=1)]"
   ]
  },
  {
   "cell_type": "code",
   "execution_count": 55,
   "id": "e97e5cc5",
   "metadata": {},
   "outputs": [
    {
     "name": "stdout",
     "output_type": "stream",
     "text": [
      "Shape of data after using IQR method: (2616, 5)\n"
     ]
    }
   ],
   "source": [
    "print(\"Shape of data after using IQR method:\", df1.shape)"
   ]
  },
  {
   "cell_type": "code",
   "execution_count": 56,
   "id": "8d1bd033",
   "metadata": {},
   "outputs": [
    {
     "data": {
      "text/plain": [
       "4.437940036389526"
      ]
     },
     "execution_count": 56,
     "metadata": {},
     "output_type": "execute_result"
    }
   ],
   "source": [
    "# Checking the the data loss after removing outliers\n",
    "data_loss = (101128-96640)/101128*100\n",
    "data_loss"
   ]
  },
  {
   "cell_type": "markdown",
   "id": "054b5f8c",
   "metadata": {},
   "source": [
    "By using IQR method, I am losing around 5% of data which is more compared to Zscore methods. So, considering Zscore method as the data loss is very less using this method."
   ]
  },
  {
   "cell_type": "markdown",
   "id": "a5b10d69",
   "metadata": {},
   "source": [
    "# Checking for skewness in dataset"
   ]
  },
  {
   "cell_type": "code",
   "execution_count": 57,
   "id": "111dbe2b",
   "metadata": {},
   "outputs": [
    {
     "data": {
      "text/plain": [
       "Ratings             -0.395172\n",
       "Length               1.405718\n",
       "Review_word_count    1.409116\n",
       "clean_length         1.403775\n",
       "dtype: float64"
      ]
     },
     "execution_count": 57,
     "metadata": {},
     "output_type": "execute_result"
    }
   ],
   "source": [
    "# Checking the skewness\n",
    "new_df.skew()"
   ]
  },
  {
   "cell_type": "markdown",
   "id": "4b71164f",
   "metadata": {},
   "source": [
    "Here we can observe the skewness present in all the columns. But Ratings column is our target and it has categorical data so no need to remove skewness in this column. Let's remove skewness in the remaining columns using yeo-johnson method."
   ]
  },
  {
   "cell_type": "markdown",
   "id": "c99a8e0b",
   "metadata": {},
   "source": [
    "# Removing skewness using yeo-johnson method"
   ]
  },
  {
   "cell_type": "code",
   "execution_count": 58,
   "id": "54108193",
   "metadata": {},
   "outputs": [
    {
     "data": {
      "text/plain": [
       "\"\\nparameters:\\nmethod = 'box-cox' or 'yeo-johnson'\\n\""
      ]
     },
     "execution_count": 58,
     "metadata": {},
     "output_type": "execute_result"
    }
   ],
   "source": [
    "# Removing skewness using yeo-johnson  method to get better prediction\n",
    "features= ['Length', 'Review_word_count', 'clean_length']\n",
    "\n",
    "from sklearn.preprocessing import PowerTransformer\n",
    "scaler = PowerTransformer(method='yeo-johnson')\n",
    "'''\n",
    "parameters:\n",
    "method = 'box-cox' or 'yeo-johnson'\n",
    "'''"
   ]
  },
  {
   "cell_type": "code",
   "execution_count": 59,
   "id": "0b413c01",
   "metadata": {},
   "outputs": [],
   "source": [
    "col=df.columns\n",
    "for i in range(0,len(col)):\n",
    "    if df[col[i]].dtype==\"object\":\n",
    "        df[col[i]].fillna(df[col[i]].mode()[0],inplace=True)"
   ]
  },
  {
   "cell_type": "code",
   "execution_count": 60,
   "id": "7b06d986",
   "metadata": {},
   "outputs": [
    {
     "data": {
      "text/html": [
       "<div>\n",
       "<style scoped>\n",
       "    .dataframe tbody tr th:only-of-type {\n",
       "        vertical-align: middle;\n",
       "    }\n",
       "\n",
       "    .dataframe tbody tr th {\n",
       "        vertical-align: top;\n",
       "    }\n",
       "\n",
       "    .dataframe thead th {\n",
       "        text-align: right;\n",
       "    }\n",
       "</style>\n",
       "<table border=\"1\" class=\"dataframe\">\n",
       "  <thead>\n",
       "    <tr style=\"text-align: right;\">\n",
       "      <th></th>\n",
       "      <th>Length</th>\n",
       "      <th>Review_word_count</th>\n",
       "      <th>clean_length</th>\n",
       "    </tr>\n",
       "  </thead>\n",
       "  <tbody>\n",
       "    <tr>\n",
       "      <th>0</th>\n",
       "      <td>0.832928</td>\n",
       "      <td>0.788306</td>\n",
       "      <td>0.793246</td>\n",
       "    </tr>\n",
       "    <tr>\n",
       "      <th>1</th>\n",
       "      <td>0.910706</td>\n",
       "      <td>0.933808</td>\n",
       "      <td>0.928881</td>\n",
       "    </tr>\n",
       "    <tr>\n",
       "      <th>2</th>\n",
       "      <td>-0.365422</td>\n",
       "      <td>-0.258513</td>\n",
       "      <td>-0.257292</td>\n",
       "    </tr>\n",
       "    <tr>\n",
       "      <th>3</th>\n",
       "      <td>-0.114350</td>\n",
       "      <td>-0.048424</td>\n",
       "      <td>-0.034748</td>\n",
       "    </tr>\n",
       "    <tr>\n",
       "      <th>4</th>\n",
       "      <td>0.728714</td>\n",
       "      <td>0.510663</td>\n",
       "      <td>0.517799</td>\n",
       "    </tr>\n",
       "    <tr>\n",
       "      <th>...</th>\n",
       "      <td>...</td>\n",
       "      <td>...</td>\n",
       "      <td>...</td>\n",
       "    </tr>\n",
       "    <tr>\n",
       "      <th>52220</th>\n",
       "      <td>-0.829969</td>\n",
       "      <td>-0.903088</td>\n",
       "      <td>-0.879616</td>\n",
       "    </tr>\n",
       "    <tr>\n",
       "      <th>52221</th>\n",
       "      <td>-0.753058</td>\n",
       "      <td>-0.704380</td>\n",
       "      <td>-0.682064</td>\n",
       "    </tr>\n",
       "    <tr>\n",
       "      <th>52222</th>\n",
       "      <td>-1.482605</td>\n",
       "      <td>-1.281983</td>\n",
       "      <td>-1.265241</td>\n",
       "    </tr>\n",
       "    <tr>\n",
       "      <th>52223</th>\n",
       "      <td>-0.914711</td>\n",
       "      <td>-0.811708</td>\n",
       "      <td>-0.788566</td>\n",
       "    </tr>\n",
       "    <tr>\n",
       "      <th>52224</th>\n",
       "      <td>-1.038832</td>\n",
       "      <td>-1.086595</td>\n",
       "      <td>-1.064155</td>\n",
       "    </tr>\n",
       "  </tbody>\n",
       "</table>\n",
       "<p>51369 rows × 3 columns</p>\n",
       "</div>"
      ],
      "text/plain": [
       "         Length  Review_word_count  clean_length\n",
       "0      0.832928           0.788306      0.793246\n",
       "1      0.910706           0.933808      0.928881\n",
       "2     -0.365422          -0.258513     -0.257292\n",
       "3     -0.114350          -0.048424     -0.034748\n",
       "4      0.728714           0.510663      0.517799\n",
       "...         ...                ...           ...\n",
       "52220 -0.829969          -0.903088     -0.879616\n",
       "52221 -0.753058          -0.704380     -0.682064\n",
       "52222 -1.482605          -1.281983     -1.265241\n",
       "52223 -0.914711          -0.811708     -0.788566\n",
       "52224 -1.038832          -1.086595     -1.064155\n",
       "\n",
       "[51369 rows x 3 columns]"
      ]
     },
     "execution_count": 60,
     "metadata": {},
     "output_type": "execute_result"
    }
   ],
   "source": [
    "new_df[features] = scaler.fit_transform(new_df[features].values)\n",
    "new_df[features]"
   ]
  },
  {
   "cell_type": "code",
   "execution_count": 61,
   "id": "9d12611a",
   "metadata": {},
   "outputs": [
    {
     "data": {
      "text/plain": [
       "Length              -0.130388\n",
       "Review_word_count   -0.165676\n",
       "clean_length        -0.193571\n",
       "dtype: float64"
      ]
     },
     "execution_count": 61,
     "metadata": {},
     "output_type": "execute_result"
    }
   ],
   "source": [
    "# Checking skewness after using yeo-johnson method\n",
    "new_df[features].skew()"
   ]
  },
  {
   "cell_type": "code",
   "execution_count": 62,
   "id": "bf8a6ca7",
   "metadata": {},
   "outputs": [
    {
     "data": {
      "image/png": "[encoded data removed]",
      "text/plain": [
       "<Figure size 1500x400 with 3 Axes>"
      ]
     },
     "metadata": {},
     "output_type": "display_data"
    }
   ],
   "source": [
    "# Checking how the data has been distriubted in each column \n",
    "col = [\"Length\",\"Review_word_count\",\"clean_length\"]\n",
    "plt.figure(figsize=(15,4),facecolor='white')\n",
    "plotnumber=1\n",
    "for column in col:\n",
    "    if plotnumber<=3:\n",
    "        ax=plt.subplot(1,3,plotnumber)\n",
    "        sns.distplot(new_df[column],color=\"maroon\",hist=True, kde = True,bins = int(180/5),hist_kws = {'edgecolor':'black'},\n",
    "            kde_kws = {'linewidth':3})\n",
    "        plt.xlabel(column,fontsize=12)\n",
    "    plotnumber+=1\n",
    "plt.tight_layout()"
   ]
  },
  {
   "cell_type": "markdown",
   "id": "6cbfc214",
   "metadata": {},
   "source": [
    "# Checking for correlation in dataset"
   ]
  },
  {
   "cell_type": "code",
   "execution_count": 63,
   "id": "90ef0092",
   "metadata": {},
   "outputs": [
    {
     "data": {
      "text/html": [
       "<div>\n",
       "<style scoped>\n",
       "    .dataframe tbody tr th:only-of-type {\n",
       "        vertical-align: middle;\n",
       "    }\n",
       "\n",
       "    .dataframe tbody tr th {\n",
       "        vertical-align: top;\n",
       "    }\n",
       "\n",
       "    .dataframe thead th {\n",
       "        text-align: right;\n",
       "    }\n",
       "</style>\n",
       "<table border=\"1\" class=\"dataframe\">\n",
       "  <thead>\n",
       "    <tr style=\"text-align: right;\">\n",
       "      <th></th>\n",
       "      <th>Ratings</th>\n",
       "      <th>Length</th>\n",
       "      <th>Review_word_count</th>\n",
       "      <th>clean_length</th>\n",
       "    </tr>\n",
       "  </thead>\n",
       "  <tbody>\n",
       "    <tr>\n",
       "      <th>Ratings</th>\n",
       "      <td>1.000000</td>\n",
       "      <td>-0.309009</td>\n",
       "      <td>-0.317314</td>\n",
       "      <td>-0.321395</td>\n",
       "    </tr>\n",
       "    <tr>\n",
       "      <th>Length</th>\n",
       "      <td>-0.309009</td>\n",
       "      <td>1.000000</td>\n",
       "      <td>0.996613</td>\n",
       "      <td>0.996230</td>\n",
       "    </tr>\n",
       "    <tr>\n",
       "      <th>Review_word_count</th>\n",
       "      <td>-0.317314</td>\n",
       "      <td>0.996613</td>\n",
       "      <td>1.000000</td>\n",
       "      <td>0.999871</td>\n",
       "    </tr>\n",
       "    <tr>\n",
       "      <th>clean_length</th>\n",
       "      <td>-0.321395</td>\n",
       "      <td>0.996230</td>\n",
       "      <td>0.999871</td>\n",
       "      <td>1.000000</td>\n",
       "    </tr>\n",
       "  </tbody>\n",
       "</table>\n",
       "</div>"
      ],
      "text/plain": [
       "                    Ratings    Length  Review_word_count  clean_length\n",
       "Ratings            1.000000 -0.309009          -0.317314     -0.321395\n",
       "Length            -0.309009  1.000000           0.996613      0.996230\n",
       "Review_word_count -0.317314  0.996613           1.000000      0.999871\n",
       "clean_length      -0.321395  0.996230           0.999871      1.000000"
      ]
     },
     "execution_count": 63,
     "metadata": {},
     "output_type": "execute_result"
    }
   ],
   "source": [
    "# Checking the correlation between features and the target\n",
    "cor = new_df.corr()\n",
    "cor"
   ]
  },
  {
   "cell_type": "markdown",
   "id": "2c6ca1d1",
   "metadata": {},
   "source": [
    "This gives the correlation between the denpendent and independent variables. We can visualize this by plotting heat map."
   ]
  },
  {
   "cell_type": "markdown",
   "id": "893d5252",
   "metadata": {},
   "source": [
    "# Visualizing the correlation matrix by plotting heat map."
   ]
  },
  {
   "cell_type": "code",
   "execution_count": 64,
   "id": "efaa5c1a",
   "metadata": {},
   "outputs": [
    {
     "data": {
      "image/png": "[encoded data removed]",
      "text/plain": [
       "<Figure size 800x500 with 2 Axes>"
      ]
     },
     "metadata": {},
     "output_type": "display_data"
    }
   ],
   "source": [
    "# Visualizing the correlation matrix by plotting heat map.\n",
    "plt.figure(figsize=(8,5))    \n",
    "sns.heatmap(new_df.corr(),linewidths=.1,vmin=-1, vmax=1,fmt='.1g',linecolor=\"black\",annot=True,cmap=\"ocean_r\",\n",
    "            annot_kws={'size':10})\n",
    "plt.yticks(rotation=0);"
   ]
  },
  {
   "cell_type": "markdown",
   "id": "4c48199e",
   "metadata": {},
   "source": [
    "1. The heat map gives the correlation between features and label. We can also observe the correlation between one feature to another.\n",
    "2. From the map we can notice length of the words are correlated with each other. All the features are negatively correlated with the label \"Ratings\".\n",
    "3. I have successfully completed cleaning the data. Let's use TF-IDF vactorizer, it'll help to transform the text data to feature vector which can be used as input in our modelling. It is a common algorithm to transform text into numbers. It measures the originality of a word by comparing the frequency of appearance of a word in a document with the number of documents the words appear in."
   ]
  },
  {
   "cell_type": "markdown",
   "id": "2ac37fa3",
   "metadata": {},
   "source": [
    "# Separating features and label into X and y"
   ]
  },
  {
   "cell_type": "code",
   "execution_count": 65,
   "id": "8abe31a4",
   "metadata": {},
   "outputs": [],
   "source": [
    "# Separating features and labels\n",
    "x = df['Total_review']\n",
    "y = df['Ratings']"
   ]
  },
  {
   "cell_type": "markdown",
   "id": "48b03217",
   "metadata": {},
   "source": [
    "# Converting tokens into vectors for moving forward to build machine learning model."
   ]
  },
  {
   "cell_type": "code",
   "execution_count": 66,
   "id": "4fce273d",
   "metadata": {},
   "outputs": [],
   "source": [
    "# Using the n_gram tfidf vectorizer(Word vectors)\n",
    "word_vectorizer = TfidfVectorizer(\n",
    "                                sublinear_tf = True,\n",
    "                                analyzer = 'word',\n",
    "                                token_pattern = r'\\w{1,}',\n",
    "                                stop_words = 'english',\n",
    "                                ngram_range = (1,3),\n",
    "                                strip_accents = 'unicode',\n",
    "                                max_features = 100000)\n",
    "word_vectorizer.fit(x)\n",
    "train_word_features = word_vectorizer.transform(x)"
   ]
  },
  {
   "cell_type": "code",
   "execution_count": 67,
   "id": "ddac801d",
   "metadata": {},
   "outputs": [],
   "source": [
    "# Character vectors\n",
    "char_vectorizer = TfidfVectorizer(\n",
    "                                sublinear_tf = True,\n",
    "                                strip_accents = 'unicode',\n",
    "                                analyzer = 'char',\n",
    "                                stop_words = 'english',\n",
    "                                ngram_range = (2,6),\n",
    "                                max_features = 50000)\n",
    "char_vectorizer.fit(x)\n",
    "train_char_features = char_vectorizer.transform(x)"
   ]
  },
  {
   "cell_type": "code",
   "execution_count": 68,
   "id": "27e15901",
   "metadata": {},
   "outputs": [],
   "source": [
    "# I will combine both word vectors and character vectors as input for our model\n",
    "X = hstack([train_char_features,train_word_features])"
   ]
  },
  {
   "cell_type": "markdown",
   "id": "a0858538",
   "metadata": {},
   "source": [
    "# Machine Learning Model Building and Evaluation Metrics"
   ]
  },
  {
   "cell_type": "markdown",
   "id": "f704c9ab",
   "metadata": {},
   "source": [
    "### Finding Best Random State"
   ]
  },
  {
   "cell_type": "code",
   "execution_count": 69,
   "id": "5e39a0d0",
   "metadata": {},
   "outputs": [
    {
     "name": "stdout",
     "output_type": "stream",
     "text": [
      "The maximum accuracy score 0.6190521780756343 is achieved at 95\n"
     ]
    }
   ],
   "source": [
    "# Determining Best Random State\n",
    "SVC=LinearSVC()\n",
    "max_score=0\n",
    "for r_state in range (20,100):\n",
    "    x_train,x_test,y_train,y_test=train_test_split(X,y,random_state=r_state,test_size=0.20)\n",
    "    SVC.fit(x_train,y_train)\n",
    "    pred=SVC.predict(x_test)\n",
    "    acc_score=accuracy_score(y_test,pred)\n",
    "    if acc_score>max_score:\n",
    "        max_score=acc_score\n",
    "        final_r_state=r_state\n",
    "print(\"The maximum accuracy score\", max_score, \"is achieved at\", final_r_state)"
   ]
  },
  {
   "cell_type": "markdown",
   "id": "c6e57e2d",
   "metadata": {},
   "source": [
    "With the help of random state selection process we have found our random state to be 77 with best accuracy as 68.35%."
   ]
  },
  {
   "cell_type": "markdown",
   "id": "0c658977",
   "metadata": {},
   "source": [
    "# Splitting train and test data"
   ]
  },
  {
   "cell_type": "code",
   "execution_count": 70,
   "id": "4baae6f3",
   "metadata": {},
   "outputs": [],
   "source": [
    "# Splitting training and testing data \n",
    "x_train, x_test, y_train, y_test = train_test_split(X, y, test_size=0.20, random_state=95)"
   ]
  },
  {
   "cell_type": "markdown",
   "id": "aa659acb",
   "metadata": {},
   "source": [
    "I am taking 30% of the complete dataset for training purpose and the remaining 70% be used to train the machine learning models using the random state 67."
   ]
  },
  {
   "cell_type": "code",
   "execution_count": 71,
   "id": "ba3f300b",
   "metadata": {},
   "outputs": [
    {
     "name": "stdout",
     "output_type": "stream",
     "text": [
      "(41780, 47737) \t (10445, 47737)\n",
      "(41780,) \t (10445,)\n"
     ]
    }
   ],
   "source": [
    "# Checking the dimension of train and test after splitting\n",
    "print(x_train.shape,'\\t',x_test.shape)        # Shape of x data\n",
    "print(y_train.shape,'\\t',y_test.shape)        # Shape of y data"
   ]
  },
  {
   "cell_type": "markdown",
   "id": "87505f14",
   "metadata": {},
   "source": [
    "# Balancing data using oversampling technique"
   ]
  },
  {
   "cell_type": "code",
   "execution_count": 72,
   "id": "3b4651bd",
   "metadata": {},
   "outputs": [
    {
     "name": "stdout",
     "output_type": "stream",
     "text": [
      "Count of classes before fit Counter({5: 15182, 1: 7487, 4: 7371, 3: 6241, 2: 5499})\n"
     ]
    }
   ],
   "source": [
    "# Let's check the number of classes before fit\n",
    "from collections import Counter\n",
    "print(\"Count of classes before fit {}\".format(Counter(y_train)))"
   ]
  },
  {
   "cell_type": "markdown",
   "id": "7d17be73",
   "metadata": {},
   "source": [
    "Here we have the maximum count 31014 for rating 5, I am using this count to get the balanced data ensuring all the entries to be having the same count of 31014."
   ]
  },
  {
   "cell_type": "code",
   "execution_count": 73,
   "id": "c9d45a88",
   "metadata": {},
   "outputs": [],
   "source": [
    "# Creating instances for different Classifiers\n",
    "\n",
    "SVC = LinearSVC()\n",
    "SGD = SGDClassifier()\n",
    "DTC = DecisionTreeClassifier()\n",
    "RFC = RandomForestClassifier()\n",
    "XT = ExtraTreesClassifier()\n",
    "\n",
    "# Creating a list model where all the models will be appended for further evaluation in loop.\n",
    "models=[]\n",
    "models.append(('LinearSVC',SVC))\n",
    "models.append(('SGDClassifier',SGD))\n",
    "models.append(('DecisionTreeClassifier',DTC))\n",
    "models.append(('RandomForestClassifier',RFC))\n",
    "models.append(('XT = ExtraTreesClassifier',XT))"
   ]
  },
  {
   "cell_type": "code",
   "execution_count": 74,
   "id": "79010b9e",
   "metadata": {
    "scrolled": false
   },
   "outputs": [
    {
     "name": "stdout",
     "output_type": "stream",
     "text": [
      "****************************** LinearSVC ******************************\n",
      "\n",
      "\n",
      "LinearSVC()\n",
      "Accuracy_Score:  61.90521780756343\n",
      "Cross Validation Score:  54.320727620871224\n",
      "Confusion matrix: \n",
      "\n",
      "[[1408  201  128   74  101]\n",
      " [ 432  511  238  120   96]\n",
      " [ 237  199  539  300  205]\n",
      " [  99   87  180  774  599]\n",
      " [ 108   62  112  401 3234]]\n",
      "\n",
      "\n",
      "Classification Report:\n",
      " \n",
      "              precision    recall  f1-score   support\n",
      "\n",
      "           1       0.62      0.74      0.67      1912\n",
      "           2       0.48      0.37      0.42      1397\n",
      "           3       0.45      0.36      0.40      1480\n",
      "           4       0.46      0.45      0.45      1739\n",
      "           5       0.76      0.83      0.79      3917\n",
      "\n",
      "    accuracy                           0.62     10445\n",
      "   macro avg       0.56      0.55      0.55     10445\n",
      "weighted avg       0.60      0.62      0.61     10445\n",
      "\n",
      "****************************** SGDClassifier ******************************\n",
      "\n",
      "\n",
      "SGDClassifier()\n",
      "Accuracy_Score:  57.83628530397319\n",
      "Cross Validation Score:  54.376256582096694\n",
      "Confusion matrix: \n",
      "\n",
      "[[1537  100   73   50  152]\n",
      " [ 686  247  165   74  225]\n",
      " [ 394  124  343  185  434]\n",
      " [ 167   52  108  384 1028]\n",
      " [ 160   34   53  140 3530]]\n",
      "\n",
      "\n",
      "Classification Report:\n",
      " \n",
      "              precision    recall  f1-score   support\n",
      "\n",
      "           1       0.52      0.80      0.63      1912\n",
      "           2       0.44      0.18      0.25      1397\n",
      "           3       0.46      0.23      0.31      1480\n",
      "           4       0.46      0.22      0.30      1739\n",
      "           5       0.66      0.90      0.76      3917\n",
      "\n",
      "    accuracy                           0.58     10445\n",
      "   macro avg       0.51      0.47      0.45     10445\n",
      "weighted avg       0.54      0.58      0.53     10445\n",
      "\n",
      "****************************** DecisionTreeClassifier ******************************\n",
      "\n",
      "\n",
      "DecisionTreeClassifier()\n",
      "Accuracy_Score:  57.951172809956915\n",
      "Cross Validation Score:  49.05696505505026\n",
      "Confusion matrix: \n",
      "\n",
      "[[1050  294  209  188  171]\n",
      " [ 241  653  190  173  140]\n",
      " [ 194  195  639  224  228]\n",
      " [ 150  135  183  809  462]\n",
      " [ 196  157  244  418 2902]]\n",
      "\n",
      "\n",
      "Classification Report:\n",
      " \n",
      "              precision    recall  f1-score   support\n",
      "\n",
      "           1       0.57      0.55      0.56      1912\n",
      "           2       0.46      0.47      0.46      1397\n",
      "           3       0.44      0.43      0.43      1480\n",
      "           4       0.45      0.47      0.46      1739\n",
      "           5       0.74      0.74      0.74      3917\n",
      "\n",
      "    accuracy                           0.58     10445\n",
      "   macro avg       0.53      0.53      0.53     10445\n",
      "weighted avg       0.58      0.58      0.58     10445\n",
      "\n",
      "****************************** RandomForestClassifier ******************************\n",
      "\n",
      "\n",
      "RandomForestClassifier()\n",
      "Accuracy_Score:  64.82527525131641\n",
      "Cross Validation Score:  56.40210627094303\n",
      "Confusion matrix: \n",
      "\n",
      "[[1479   78   72   99  184]\n",
      " [ 426  556  113  106  196]\n",
      " [ 298   87  588  208  299]\n",
      " [ 158   33  100  791  657]\n",
      " [ 179   36   51  294 3357]]\n",
      "\n",
      "\n",
      "Classification Report:\n",
      " \n",
      "              precision    recall  f1-score   support\n",
      "\n",
      "           1       0.58      0.77      0.66      1912\n",
      "           2       0.70      0.40      0.51      1397\n",
      "           3       0.64      0.40      0.49      1480\n",
      "           4       0.53      0.45      0.49      1739\n",
      "           5       0.72      0.86      0.78      3917\n",
      "\n",
      "    accuracy                           0.65     10445\n",
      "   macro avg       0.63      0.58      0.59     10445\n",
      "weighted avg       0.65      0.65      0.63     10445\n",
      "\n",
      "****************************** XT = ExtraTreesClassifier ******************************\n",
      "\n",
      "\n",
      "ExtraTreesClassifier()\n",
      "Accuracy_Score:  64.64337003350884\n",
      "Cross Validation Score:  56.22403063666825\n",
      "Confusion matrix: \n",
      "\n",
      "[[1517   59   72   83  181]\n",
      " [ 450  533  110  106  198]\n",
      " [ 317   71  560  224  308]\n",
      " [ 152   26   98  759  704]\n",
      " [ 167   22   53  292 3383]]\n",
      "\n",
      "\n",
      "Classification Report:\n",
      " \n",
      "              precision    recall  f1-score   support\n",
      "\n",
      "           1       0.58      0.79      0.67      1912\n",
      "           2       0.75      0.38      0.51      1397\n",
      "           3       0.63      0.38      0.47      1480\n",
      "           4       0.52      0.44      0.47      1739\n",
      "           5       0.71      0.86      0.78      3917\n",
      "\n",
      "    accuracy                           0.65     10445\n",
      "   macro avg       0.64      0.57      0.58     10445\n",
      "weighted avg       0.65      0.65      0.63     10445\n",
      "\n"
     ]
    }
   ],
   "source": [
    "# Creating empty lists\n",
    "Model = []\n",
    "Acc_score = []\n",
    "cvs = []\n",
    "\n",
    "for name,model in models:\n",
    "    print(\"******************************\",name,\"******************************\")\n",
    "    print(\"\\n\")\n",
    "    Model.append(name)\n",
    "    model.fit(x_train,y_train)\n",
    "    print(model)\n",
    "    y_pred=model.predict(x_test)\n",
    "# Accuracy Score\n",
    "    acc_score=accuracy_score(y_test,y_pred)*100\n",
    "    print('Accuracy_Score: ',acc_score)\n",
    "    Acc_score.append(acc_score)\n",
    "# Cross Validation Score\n",
    "    cv=cross_val_score(model,X,y,cv=5,scoring='accuracy').mean()*100\n",
    "    print('Cross Validation Score: ',cv)\n",
    "    cvs.append(cv)\n",
    "# Confusion Matrix\n",
    "    print('Confusion matrix: \\n')\n",
    "    cm=confusion_matrix(y_test,y_pred)\n",
    "    print(cm)\n",
    "    print(\"\\n\")\n",
    "# Classification Report\n",
    "    print('Classification Report:\\n ')\n",
    "    print(classification_report(y_test,y_pred))"
   ]
  },
  {
   "cell_type": "markdown",
   "id": "ba0426a7",
   "metadata": {},
   "source": [
    "# Model Selection"
   ]
  },
  {
   "cell_type": "code",
   "execution_count": 75,
   "id": "377297d4",
   "metadata": {},
   "outputs": [
    {
     "data": {
      "text/html": [
       "<div>\n",
       "<style scoped>\n",
       "    .dataframe tbody tr th:only-of-type {\n",
       "        vertical-align: middle;\n",
       "    }\n",
       "\n",
       "    .dataframe tbody tr th {\n",
       "        vertical-align: top;\n",
       "    }\n",
       "\n",
       "    .dataframe thead th {\n",
       "        text-align: right;\n",
       "    }\n",
       "</style>\n",
       "<table border=\"1\" class=\"dataframe\">\n",
       "  <thead>\n",
       "    <tr style=\"text-align: right;\">\n",
       "      <th></th>\n",
       "      <th>Model</th>\n",
       "      <th>Accuracy Score</th>\n",
       "      <th>Cross Validation Score</th>\n",
       "    </tr>\n",
       "  </thead>\n",
       "  <tbody>\n",
       "    <tr>\n",
       "      <th>0</th>\n",
       "      <td>LinearSVC</td>\n",
       "      <td>61.905218</td>\n",
       "      <td>54.320728</td>\n",
       "    </tr>\n",
       "    <tr>\n",
       "      <th>1</th>\n",
       "      <td>SGDClassifier</td>\n",
       "      <td>57.836285</td>\n",
       "      <td>54.376257</td>\n",
       "    </tr>\n",
       "    <tr>\n",
       "      <th>2</th>\n",
       "      <td>DecisionTreeClassifier</td>\n",
       "      <td>57.951173</td>\n",
       "      <td>49.056965</td>\n",
       "    </tr>\n",
       "    <tr>\n",
       "      <th>3</th>\n",
       "      <td>RandomForestClassifier</td>\n",
       "      <td>64.825275</td>\n",
       "      <td>56.402106</td>\n",
       "    </tr>\n",
       "    <tr>\n",
       "      <th>4</th>\n",
       "      <td>XT = ExtraTreesClassifier</td>\n",
       "      <td>64.643370</td>\n",
       "      <td>56.224031</td>\n",
       "    </tr>\n",
       "  </tbody>\n",
       "</table>\n",
       "</div>"
      ],
      "text/plain": [
       "                       Model  Accuracy Score  Cross Validation Score\n",
       "0                  LinearSVC       61.905218               54.320728\n",
       "1              SGDClassifier       57.836285               54.376257\n",
       "2     DecisionTreeClassifier       57.951173               49.056965\n",
       "3     RandomForestClassifier       64.825275               56.402106\n",
       "4  XT = ExtraTreesClassifier       64.643370               56.224031"
      ]
     },
     "execution_count": 75,
     "metadata": {},
     "output_type": "execute_result"
    }
   ],
   "source": [
    "# Displaying Scores and metrics:\n",
    "Results=pd.DataFrame({'Model': Model,'Accuracy Score': Acc_score,\n",
    "                      'Cross Validation Score':cvs}) \n",
    "Results"
   ]
  },
  {
   "cell_type": "markdown",
   "id": "1d1c16b4",
   "metadata": {},
   "source": [
    "After creating and training different classification algorithms, we can see that the difference between accuracy and cross validation score is less for Random Forest Classifier. On this basis I can conclude that Eandom Forest Classifier as the best fitting model. Now, we will try Hyperparameter Tuning to find out the best parameters and using them to improve the scores and metrics values."
   ]
  },
  {
   "cell_type": "markdown",
   "id": "20c45768",
   "metadata": {},
   "source": [
    "Hyper Parameter Tuning"
   ]
  },
  {
   "cell_type": "code",
   "execution_count": 76,
   "id": "f293efe3",
   "metadata": {},
   "outputs": [],
   "source": [
    "dict1={'criterion':['gini','entropy','log_loss'],'max_features':['sqrt','log2','None'],'n_estimators':[100,200,300,400,500],\n",
    "      'max_depth':[3,4,5,6,7]}"
   ]
  },
  {
   "cell_type": "code",
   "execution_count": 77,
   "id": "f30b2464",
   "metadata": {},
   "outputs": [
    {
     "data": {
      "text/html": [
       "<style>#sk-container-id-1 {color: black;background-color: white;}#sk-container-id-1 pre{padding: 0;}#sk-container-id-1 div.sk-toggleable {background-color: white;}#sk-container-id-1 label.sk-toggleable__label {cursor: pointer;display: block;width: 100%;margin-bottom: 0;padding: 0.3em;box-sizing: border-box;text-align: center;}#sk-container-id-1 label.sk-toggleable__label-arrow:before {content: \"▸\";float: left;margin-right: 0.25em;color: #696969;}#sk-container-id-1 label.sk-toggleable__label-arrow:hover:before {color: black;}#sk-container-id-1 div.sk-estimator:hover label.sk-toggleable__label-arrow:before {color: black;}#sk-container-id-1 div.sk-toggleable__content {max-height: 0;max-width: 0;overflow: hidden;text-align: left;background-color: #f0f8ff;}#sk-container-id-1 div.sk-toggleable__content pre {margin: 0.2em;color: black;border-radius: 0.25em;background-color: #f0f8ff;}#sk-container-id-1 input.sk-toggleable__control:checked~div.sk-toggleable__content {max-height: 200px;max-width: 100%;overflow: auto;}#sk-container-id-1 input.sk-toggleable__control:checked~label.sk-toggleable__label-arrow:before {content: \"▾\";}#sk-container-id-1 div.sk-estimator input.sk-toggleable__control:checked~label.sk-toggleable__label {background-color: #d4ebff;}#sk-container-id-1 div.sk-label input.sk-toggleable__control:checked~label.sk-toggleable__label {background-color: #d4ebff;}#sk-container-id-1 input.sk-hidden--visually {border: 0;clip: rect(1px 1px 1px 1px);clip: rect(1px, 1px, 1px, 1px);height: 1px;margin: -1px;overflow: hidden;padding: 0;position: absolute;width: 1px;}#sk-container-id-1 div.sk-estimator {font-family: monospace;background-color: #f0f8ff;border: 1px dotted black;border-radius: 0.25em;box-sizing: border-box;margin-bottom: 0.5em;}#sk-container-id-1 div.sk-estimator:hover {background-color: #d4ebff;}#sk-container-id-1 div.sk-parallel-item::after {content: \"\";width: 100%;border-bottom: 1px solid gray;flex-grow: 1;}#sk-container-id-1 div.sk-label:hover label.sk-toggleable__label {background-color: #d4ebff;}#sk-container-id-1 div.sk-serial::before {content: \"\";position: absolute;border-left: 1px solid gray;box-sizing: border-box;top: 0;bottom: 0;left: 50%;z-index: 0;}#sk-container-id-1 div.sk-serial {display: flex;flex-direction: column;align-items: center;background-color: white;padding-right: 0.2em;padding-left: 0.2em;position: relative;}#sk-container-id-1 div.sk-item {position: relative;z-index: 1;}#sk-container-id-1 div.sk-parallel {display: flex;align-items: stretch;justify-content: center;background-color: white;position: relative;}#sk-container-id-1 div.sk-item::before, #sk-container-id-1 div.sk-parallel-item::before {content: \"\";position: absolute;border-left: 1px solid gray;box-sizing: border-box;top: 0;bottom: 0;left: 50%;z-index: -1;}#sk-container-id-1 div.sk-parallel-item {display: flex;flex-direction: column;z-index: 1;position: relative;background-color: white;}#sk-container-id-1 div.sk-parallel-item:first-child::after {align-self: flex-end;width: 50%;}#sk-container-id-1 div.sk-parallel-item:last-child::after {align-self: flex-start;width: 50%;}#sk-container-id-1 div.sk-parallel-item:only-child::after {width: 0;}#sk-container-id-1 div.sk-dashed-wrapped {border: 1px dashed gray;margin: 0 0.4em 0.5em 0.4em;box-sizing: border-box;padding-bottom: 0.4em;background-color: white;}#sk-container-id-1 div.sk-label label {font-family: monospace;font-weight: bold;display: inline-block;line-height: 1.2em;}#sk-container-id-1 div.sk-label-container {text-align: center;}#sk-container-id-1 div.sk-container {/* jupyter's `normalize.less` sets `[hidden] { display: none; }` but bootstrap.min.css set `[hidden] { display: none !important; }` so we also need the `!important` here to be able to override the default hidden behavior on the sphinx rendered scikit-learn.org. See: https://github.com/scikit-learn/scikit-learn/issues/21755 */display: inline-block !important;position: relative;}#sk-container-id-1 div.sk-text-repr-fallback {display: none;}</style><div id=\"sk-container-id-1\" class=\"sk-top-container\"><div class=\"sk-text-repr-fallback\"><pre>GridSearchCV(cv=5, estimator=RandomForestClassifier(),\n",
       "             param_grid={&#x27;criterion&#x27;: [&#x27;gini&#x27;, &#x27;entropy&#x27;, &#x27;log_loss&#x27;],\n",
       "                         &#x27;max_depth&#x27;: [3, 4, 5, 6, 7],\n",
       "                         &#x27;max_features&#x27;: [&#x27;sqrt&#x27;, &#x27;log2&#x27;, &#x27;None&#x27;],\n",
       "                         &#x27;n_estimators&#x27;: [100, 200, 300, 400, 500]})</pre><b>In a Jupyter environment, please rerun this cell to show the HTML representation or trust the notebook. <br />On GitHub, the HTML representation is unable to render, please try loading this page with nbviewer.org.</b></div><div class=\"sk-container\" hidden><div class=\"sk-item sk-dashed-wrapped\"><div class=\"sk-label-container\"><div class=\"sk-label sk-toggleable\"><input class=\"sk-toggleable__control sk-hidden--visually\" id=\"sk-estimator-id-1\" type=\"checkbox\" ><label for=\"sk-estimator-id-1\" class=\"sk-toggleable__label sk-toggleable__label-arrow\">GridSearchCV</label><div class=\"sk-toggleable__content\"><pre>GridSearchCV(cv=5, estimator=RandomForestClassifier(),\n",
       "             param_grid={&#x27;criterion&#x27;: [&#x27;gini&#x27;, &#x27;entropy&#x27;, &#x27;log_loss&#x27;],\n",
       "                         &#x27;max_depth&#x27;: [3, 4, 5, 6, 7],\n",
       "                         &#x27;max_features&#x27;: [&#x27;sqrt&#x27;, &#x27;log2&#x27;, &#x27;None&#x27;],\n",
       "                         &#x27;n_estimators&#x27;: [100, 200, 300, 400, 500]})</pre></div></div></div><div class=\"sk-parallel\"><div class=\"sk-parallel-item\"><div class=\"sk-item\"><div class=\"sk-label-container\"><div class=\"sk-label sk-toggleable\"><input class=\"sk-toggleable__control sk-hidden--visually\" id=\"sk-estimator-id-2\" type=\"checkbox\" ><label for=\"sk-estimator-id-2\" class=\"sk-toggleable__label sk-toggleable__label-arrow\">estimator: RandomForestClassifier</label><div class=\"sk-toggleable__content\"><pre>RandomForestClassifier()</pre></div></div></div><div class=\"sk-serial\"><div class=\"sk-item\"><div class=\"sk-estimator sk-toggleable\"><input class=\"sk-toggleable__control sk-hidden--visually\" id=\"sk-estimator-id-3\" type=\"checkbox\" ><label for=\"sk-estimator-id-3\" class=\"sk-toggleable__label sk-toggleable__label-arrow\">RandomForestClassifier</label><div class=\"sk-toggleable__content\"><pre>RandomForestClassifier()</pre></div></div></div></div></div></div></div></div></div></div>"
      ],
      "text/plain": [
       "GridSearchCV(cv=5, estimator=RandomForestClassifier(),\n",
       "             param_grid={'criterion': ['gini', 'entropy', 'log_loss'],\n",
       "                         'max_depth': [3, 4, 5, 6, 7],\n",
       "                         'max_features': ['sqrt', 'log2', 'None'],\n",
       "                         'n_estimators': [100, 200, 300, 400, 500]})"
      ]
     },
     "execution_count": 77,
     "metadata": {},
     "output_type": "execute_result"
    }
   ],
   "source": [
    "Gs=GridSearchCV(RFC,dict1,cv=5)\n",
    "Gs"
   ]
  },
  {
   "cell_type": "code",
   "execution_count": null,
   "id": "620a86cb",
   "metadata": {},
   "outputs": [],
   "source": [
    "Gs.fit(x_train,y_train)"
   ]
  },
  {
   "cell_type": "code",
   "execution_count": null,
   "id": "ca8678cf",
   "metadata": {},
   "outputs": [],
   "source": [
    "Gs.best_params_"
   ]
  },
  {
   "cell_type": "code",
   "execution_count": null,
   "id": "05e15883",
   "metadata": {},
   "outputs": [],
   "source": [
    "Gs.best_score_"
   ]
  },
  {
   "cell_type": "code",
   "execution_count": null,
   "id": "3acb0706",
   "metadata": {},
   "outputs": [],
   "source": [
    "Gs.best_estimator_"
   ]
  },
  {
   "cell_type": "markdown",
   "id": "30a61cd6",
   "metadata": {},
   "source": [
    "# Analysis with full model"
   ]
  },
  {
   "cell_type": "code",
   "execution_count": null,
   "id": "ab883973",
   "metadata": {},
   "outputs": [],
   "source": [
    "Rf=RandomForestClassifier(criterion='gini',max_features='log2',n_estimators=300,max_depth=7)\n",
    "Rf.fit(x_train,y_train)\n",
    "pred_test=Rf.predict(x_test)\n",
    "print(f\"Confusion Matrix : {confusion_matrix(y_test,pred_test)}\")\n",
    "print(f\"Classification Report : {classification_report(y_test,pred_test)}\")\n",
    "print(f\"Accuracy Score of Model  : {(accuracy_score(y_test,pred_test)*100)}\")\n",
    "print(f\"Dataset Score : {(Rf.score(x_train,y_train))*100}\")"
   ]
  },
  {
   "cell_type": "markdown",
   "id": "3c38ff0a",
   "metadata": {},
   "source": [
    "# Save the best model"
   ]
  },
  {
   "cell_type": "code",
   "execution_count": null,
   "id": "ac7f1ab5",
   "metadata": {},
   "outputs": [],
   "source": [
    "import joblib"
   ]
  },
  {
   "cell_type": "code",
   "execution_count": null,
   "id": "40822acc",
   "metadata": {},
   "outputs": [],
   "source": [
    "joblib.dump(Gs.best_estimator_,'Review_prediction.pkl')"
   ]
  },
  {
   "cell_type": "markdown",
   "id": "51f219bf",
   "metadata": {},
   "source": [
    "# Loading and Predicting the Saved Model"
   ]
  },
  {
   "cell_type": "code",
   "execution_count": null,
   "id": "e7834bab",
   "metadata": {},
   "outputs": [],
   "source": [
    "# loading the final model\n",
    "model = joblib.load('Review_Prediction(IP7).pkl')\n",
    "\n",
    "# Creating dataframe for predicted results\n",
    "prediction=pd.DataFrame([model.predict(X)[:]],index=[\"Predicted\"])\n",
    "prediction.T\n"
   ]
  },
  {
   "cell_type": "code",
   "execution_count": null,
   "id": "47ee878f",
   "metadata": {},
   "outputs": [],
   "source": []
  },
  {
   "cell_type": "code",
   "execution_count": null,
   "id": "a5e79e4c",
   "metadata": {},
   "outputs": [],
   "source": []
  },
  {
   "cell_type": "code",
   "execution_count": null,
   "id": "9b6a8d1a",
   "metadata": {},
   "outputs": [],
   "source": []
  }
 ],
 "metadata": {
  "kernelspec": {
   "display_name": "Python 3 (ipykernel)",
   "language": "python",
   "name": "python3"
  },
  "language_info": {
   "codemirror_mode": {
    "name": "ipython",
    "version": 3
   },
   "file_extension": ".py",
   "mimetype": "text/x-python",
   "name": "python",
   "nbconvert_exporter": "python",
   "pygments_lexer": "ipython3",
   "version": "3.9.13"
  }
 },
 "nbformat": 4,
 "nbformat_minor": 5
}
